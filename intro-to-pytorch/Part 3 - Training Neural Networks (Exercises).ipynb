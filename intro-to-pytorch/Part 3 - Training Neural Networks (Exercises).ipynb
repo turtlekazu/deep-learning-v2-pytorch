{
 "cells": [
  {
   "cell_type": "markdown",
   "metadata": {},
   "source": [
    "# Training Neural Networks\n",
    "\n",
    "The network we built in the previous part isn't so smart, it doesn't know anything about our handwritten digits. Neural networks with non-linear activations work like universal function approximators. There is some function that maps your input to the output. For example, images of handwritten digits to class probabilities. The power of neural networks is that we can train them to approximate this function, and basically any function given enough data and compute time.\n",
    "\n",
    "<img src=\"assets/function_approx.png\" width=500px>\n",
    "\n",
    "At first the network is naive, it doesn't know the function mapping the inputs to the outputs. We train the network by showing it examples of real data, then adjusting the network parameters such that it approximates this function.\n",
    "\n",
    "To find these parameters, we need to know how poorly the network is predicting the real outputs. For this we calculate a **loss function** (also called the cost), a measure of our prediction error. For example, the mean squared loss is often used in regression and binary classification problems\n",
    "\n",
    "$$\n",
    "\\large \\ell = \\frac{1}{2n}\\sum_i^n{\\left(y_i - \\hat{y}_i\\right)^2}\n",
    "$$\n",
    "\n",
    "where $n$ is the number of training examples, $y_i$ are the true labels, and $\\hat{y}_i$ are the predicted labels.\n",
    "\n",
    "By minimizing this loss with respect to the network parameters, we can find configurations where the loss is at a minimum and the network is able to predict the correct labels with high accuracy. We find this minimum using a process called **gradient descent**. The gradient is the slope of the loss function and points in the direction of fastest change. To get to the minimum in the least amount of time, we then want to follow the gradient (downwards). You can think of this like descending a mountain by following the steepest slope to the base.\n",
    "\n",
    "<img src='assets/gradient_descent.png' width=350px>"
   ]
  },
  {
   "cell_type": "markdown",
   "metadata": {},
   "source": [
    "## Backpropagation\n",
    "\n",
    "For single layer networks, gradient descent is straightforward to implement. However, it's more complicated for deeper, multilayer neural networks like the one we've built. Complicated enough that it took about 30 years before researchers figured out how to train multilayer networks.\n",
    "\n",
    "Training multilayer networks is done through **backpropagation** which is really just an application of the chain rule from calculus. It's easiest to understand if we convert a two layer network into a graph representation.\n",
    "\n",
    "<img src='assets/backprop_diagram.png' width=550px>\n",
    "\n",
    "In the forward pass through the network, our data and operations go from bottom to top here. We pass the input $x$ through a linear transformation $L_1$ with weights $W_1$ and biases $b_1$. The output then goes through the sigmoid operation $S$ and another linear transformation $L_2$. Finally we calculate the loss $\\ell$. We use the loss as a measure of how bad the network's predictions are. The goal then is to adjust the weights and biases to minimize the loss.\n",
    "\n",
    "To train the weights with gradient descent, we propagate the gradient of the loss backwards through the network. Each operation has some gradient between the inputs and outputs. As we send the gradients backwards, we multiply the incoming gradient with the gradient for the operation. Mathematically, this is really just calculating the gradient of the loss with respect to the weights using the chain rule.\n",
    "\n",
    "$$\n",
    "\\large \\frac{\\partial \\ell}{\\partial W_1} = \\frac{\\partial L_1}{\\partial W_1} \\frac{\\partial S}{\\partial L_1} \\frac{\\partial L_2}{\\partial S} \\frac{\\partial \\ell}{\\partial L_2}\n",
    "$$\n",
    "\n",
    "**Note:** I'm glossing over a few details here that require some knowledge of vector calculus, but they aren't necessary to understand what's going on.\n",
    "\n",
    "We update our weights using this gradient with some learning rate $\\alpha$. \n",
    "\n",
    "$$\n",
    "\\large W^\\prime_1 = W_1 - \\alpha \\frac{\\partial \\ell}{\\partial W_1}\n",
    "$$\n",
    "\n",
    "The learning rate $\\alpha$ is set such that the weight update steps are small enough that the iterative method settles in a minimum."
   ]
  },
  {
   "cell_type": "markdown",
   "metadata": {},
   "source": [
    "## Losses in PyTorch\n",
    "\n",
    "Let's start by seeing how we calculate the loss with PyTorch. Through the `nn` module, PyTorch provides losses such as the cross-entropy loss (`nn.CrossEntropyLoss`). You'll usually see the loss assigned to `criterion`. As noted in the last part, with a classification problem such as MNIST, we're using the softmax function to predict class probabilities. With a softmax output, you want to use cross-entropy as the loss. To actually calculate the loss, you first define the criterion then pass in the output of your network and the correct labels.\n",
    "\n",
    "Something really important to note here. Looking at [the documentation for `nn.CrossEntropyLoss`](https://pytorch.org/docs/stable/nn.html#torch.nn.CrossEntropyLoss),\n",
    "\n",
    "> This criterion combines `nn.LogSoftmax()` and `nn.NLLLoss()` in one single class.\n",
    ">\n",
    "> The input is expected to contain scores for each class.\n",
    "\n",
    "This means we need to pass in the raw output of our network into the loss, not the output of the softmax function. This raw output is usually called the *logits* or *scores*. We use the logits because softmax gives you probabilities which will often be very close to zero or one but floating-point numbers can't accurately represent values near zero or one ([read more here](https://docs.python.org/3/tutorial/floatingpoint.html)). It's usually best to avoid doing calculations with probabilities, typically we use log-probabilities."
   ]
  },
  {
   "cell_type": "code",
   "execution_count": 1,
   "metadata": {},
   "outputs": [],
   "source": [
    "# The MNIST datasets are hosted on yann.lecun.com that has moved under CloudFlare protection\n",
    "# Run this script to enable the datasets download\n",
    "# Reference: https://github.com/pytorch/vision/issues/1938\n",
    "\n",
    "from six.moves import urllib\n",
    "opener = urllib.request.build_opener()\n",
    "opener.addheaders = [('User-agent', 'Mozilla/5.0')]\n",
    "urllib.request.install_opener(opener)"
   ]
  },
  {
   "cell_type": "code",
   "execution_count": 2,
   "metadata": {},
   "outputs": [],
   "source": [
    "import torch\n",
    "from torch import nn\n",
    "import torch.nn.functional as F\n",
    "from torchvision import datasets, transforms\n",
    "\n",
    "# Define a transform to normalize the data\n",
    "transform = transforms.Compose([transforms.ToTensor(),\n",
    "                                transforms.Normalize((0.5,), (0.5,)),\n",
    "                              ])\n",
    "# Download and load the training data\n",
    "trainset = datasets.MNIST('~/.pytorch/MNIST_data/', download=True, train=True, transform=transform)\n",
    "trainloader = torch.utils.data.DataLoader(trainset, batch_size=64, shuffle=True)"
   ]
  },
  {
   "cell_type": "markdown",
   "metadata": {},
   "source": [
    "### Note\n",
    "If you haven't seen `nn.Sequential` yet, please finish the end of the Part 2 notebook."
   ]
  },
  {
   "cell_type": "code",
   "execution_count": 5,
   "metadata": {},
   "outputs": [
    {
     "name": "stdout",
     "output_type": "stream",
     "text": [
      "[tensor([[[[-1., -1., -1.,  ..., -1., -1., -1.],\n",
      "          [-1., -1., -1.,  ..., -1., -1., -1.],\n",
      "          [-1., -1., -1.,  ..., -1., -1., -1.],\n",
      "          ...,\n",
      "          [-1., -1., -1.,  ..., -1., -1., -1.],\n",
      "          [-1., -1., -1.,  ..., -1., -1., -1.],\n",
      "          [-1., -1., -1.,  ..., -1., -1., -1.]]],\n",
      "\n",
      "\n",
      "        [[[-1., -1., -1.,  ..., -1., -1., -1.],\n",
      "          [-1., -1., -1.,  ..., -1., -1., -1.],\n",
      "          [-1., -1., -1.,  ..., -1., -1., -1.],\n",
      "          ...,\n",
      "          [-1., -1., -1.,  ..., -1., -1., -1.],\n",
      "          [-1., -1., -1.,  ..., -1., -1., -1.],\n",
      "          [-1., -1., -1.,  ..., -1., -1., -1.]]],\n",
      "\n",
      "\n",
      "        [[[-1., -1., -1.,  ..., -1., -1., -1.],\n",
      "          [-1., -1., -1.,  ..., -1., -1., -1.],\n",
      "          [-1., -1., -1.,  ..., -1., -1., -1.],\n",
      "          ...,\n",
      "          [-1., -1., -1.,  ..., -1., -1., -1.],\n",
      "          [-1., -1., -1.,  ..., -1., -1., -1.],\n",
      "          [-1., -1., -1.,  ..., -1., -1., -1.]]],\n",
      "\n",
      "\n",
      "        ...,\n",
      "\n",
      "\n",
      "        [[[-1., -1., -1.,  ..., -1., -1., -1.],\n",
      "          [-1., -1., -1.,  ..., -1., -1., -1.],\n",
      "          [-1., -1., -1.,  ..., -1., -1., -1.],\n",
      "          ...,\n",
      "          [-1., -1., -1.,  ..., -1., -1., -1.],\n",
      "          [-1., -1., -1.,  ..., -1., -1., -1.],\n",
      "          [-1., -1., -1.,  ..., -1., -1., -1.]]],\n",
      "\n",
      "\n",
      "        [[[-1., -1., -1.,  ..., -1., -1., -1.],\n",
      "          [-1., -1., -1.,  ..., -1., -1., -1.],\n",
      "          [-1., -1., -1.,  ..., -1., -1., -1.],\n",
      "          ...,\n",
      "          [-1., -1., -1.,  ..., -1., -1., -1.],\n",
      "          [-1., -1., -1.,  ..., -1., -1., -1.],\n",
      "          [-1., -1., -1.,  ..., -1., -1., -1.]]],\n",
      "\n",
      "\n",
      "        [[[-1., -1., -1.,  ..., -1., -1., -1.],\n",
      "          [-1., -1., -1.,  ..., -1., -1., -1.],\n",
      "          [-1., -1., -1.,  ..., -1., -1., -1.],\n",
      "          ...,\n",
      "          [-1., -1., -1.,  ..., -1., -1., -1.],\n",
      "          [-1., -1., -1.,  ..., -1., -1., -1.],\n",
      "          [-1., -1., -1.,  ..., -1., -1., -1.]]]]), tensor([2, 7, 9, 7, 8, 9, 2, 4, 4, 6, 7, 4, 4, 2, 9, 7, 9, 4, 3, 4, 0, 2, 1, 6,\n",
      "        7, 1, 7, 9, 2, 7, 0, 1, 8, 7, 0, 4, 2, 1, 3, 0, 1, 7, 6, 6, 3, 2, 7, 4,\n",
      "        8, 8, 3, 4, 1, 9, 9, 5, 6, 0, 4, 5, 5, 0, 8, 5])]\n",
      "tensor(2.2872, grad_fn=<NllLossBackward0>)\n"
     ]
    }
   ],
   "source": [
    "# Build a feed-forward network\n",
    "model = nn.Sequential(nn.Linear(784, 128),\n",
    "                      nn.ReLU(),\n",
    "                      nn.Linear(128, 64),\n",
    "                      nn.ReLU(),\n",
    "                      nn.Linear(64, 10))\n",
    "\n",
    "# Define the loss\n",
    "criterion = nn.CrossEntropyLoss()\n",
    "\n",
    "# Get our data\n",
    "dataiter = iter(trainloader)\n",
    "\n",
    "images, labels = next(dataiter)\n",
    "print(next(dataiter))\n",
    "\n",
    "# Flatten images\n",
    "images = images.view(images.shape[0], -1) # -1を取ることで、残りの次元が自動で決まる。\n",
    "\n",
    "# Forward pass, get our logits\n",
    "logits = model(images)\n",
    "# Calculate the loss with the logits and the labels\n",
    "loss = criterion(logits, labels)\n",
    "\n",
    "print(loss)"
   ]
  },
  {
   "cell_type": "markdown",
   "metadata": {},
   "source": [
    "In my experience it's more convenient to build the model with a log-softmax output using `nn.LogSoftmax` or `F.log_softmax` ([documentation](https://pytorch.org/docs/stable/nn.html#torch.nn.LogSoftmax)). Then you can get the actual probabilities by taking the exponential `torch.exp(output)`. With a log-softmax output, you want to use the negative log likelihood loss, `nn.NLLLoss` ([documentation](https://pytorch.org/docs/stable/nn.html#torch.nn.NLLLoss)).\n",
    "\n",
    ">**Exercise:** Build a model that returns the log-softmax as the output and calculate the loss using the negative log likelihood loss. Note that for `nn.LogSoftmax` and `F.log_softmax` you'll need to set the `dim` keyword argument appropriately. `dim=0` calculates softmax across the rows, so each column sums to 1, while `dim=1` calculates across the columns so each row sums to 1. Think about what you want the output to be and choose `dim` appropriately."
   ]
  },
  {
   "cell_type": "code",
   "execution_count": 13,
   "metadata": {},
   "outputs": [
    {
     "name": "stdout",
     "output_type": "stream",
     "text": [
      "tensor(2.3123, grad_fn=<NllLossBackward0>)\n"
     ]
    }
   ],
   "source": [
    "# TODO: Build a feed-forward network\n",
    "model = nn.Sequential(\n",
    "    nn.Linear(784, 128),\n",
    "    nn.ReLU(),\n",
    "    nn.Linear(128, 64),\n",
    "    nn.ReLU(),\n",
    "    nn.Linear(64, 10),\n",
    "    nn.LogSoftmax(dim=1),\n",
    ")\n",
    "\n",
    "# TODO: Define the loss\n",
    "criterion = nn.NLLLoss()\n",
    "\n",
    "### Run this to check your work\n",
    "# Get our data\n",
    "dataiter = iter(trainloader)\n",
    "\n",
    "images, labels = next(dataiter)\n",
    "\n",
    "# Flatten images\n",
    "images = images.view(images.shape[0], -1)\n",
    "\n",
    "# Forward pass, get our logits\n",
    "logits = model(images)\n",
    "# Calculate the loss with the logits and the labels\n",
    "loss = criterion(logits, labels)\n",
    "\n",
    "print(loss)"
   ]
  },
  {
   "cell_type": "code",
   "execution_count": 10,
   "metadata": {},
   "outputs": [
    {
     "name": "stdout",
     "output_type": "stream",
     "text": [
      "tensor([4, 1])\n"
     ]
    },
    {
     "data": {
      "text/plain": [
       "tensor(-0.3000)"
      ]
     },
     "execution_count": 10,
     "metadata": {},
     "output_type": "execute_result"
    }
   ],
   "source": [
    "nll_loss = nn.NLLLoss()\n",
    "xx = torch.tensor([ [0.1, 0.1, 0.1, 0.2, 0.5],\n",
    "                    [0.1, 0.1, 0.1, 0.2, 0.5]\n",
    "                  ])\n",
    "yy = torch.tensor([4, 1])\n",
    "print(yy)\n",
    "nll_loss(xx, yy)"
   ]
  },
  {
   "cell_type": "markdown",
   "metadata": {},
   "source": [
    "## Autograd\n",
    "\n",
    "Now that we know how to calculate a loss, how do we use it to perform backpropagation? Torch provides a module, `autograd`, for automatically calculating the gradients of tensors. We can use it to calculate the gradients of all our parameters with respect to the loss. Autograd works by keeping track of operations performed on tensors, then going backwards through those operations, calculating gradients along the way. To make sure PyTorch keeps track of operations on a tensor and calculates the gradients, you need to set `requires_grad = True` on a tensor. You can do this at creation with the `requires_grad` keyword, or at any time with `x.requires_grad_(True)`.\n",
    "\n",
    "You can turn off gradients for a block of code with the `torch.no_grad()` content:\n",
    "```python\n",
    "x = torch.zeros(1, requires_grad=True)\n",
    ">>> with torch.no_grad():\n",
    "...     y = x * 2\n",
    ">>> y.requires_grad\n",
    "False\n",
    "```\n",
    "\n",
    "Also, you can turn on or off gradients altogether with `torch.set_grad_enabled(True|False)`.\n",
    "\n",
    "The gradients are computed with respect to some variable `z` with `z.backward()`. This does a backward pass through the operations that created `z`."
   ]
  },
  {
   "cell_type": "code",
   "execution_count": 14,
   "metadata": {},
   "outputs": [
    {
     "name": "stdout",
     "output_type": "stream",
     "text": [
      "tensor([[ 0.2287, -1.6504],\n",
      "        [ 1.2583, -1.6242]], requires_grad=True)\n"
     ]
    }
   ],
   "source": [
    "x = torch.randn(2,2, requires_grad=True)\n",
    "print(x)"
   ]
  },
  {
   "cell_type": "code",
   "execution_count": 15,
   "metadata": {},
   "outputs": [
    {
     "name": "stdout",
     "output_type": "stream",
     "text": [
      "tensor([[0.0523, 2.7237],\n",
      "        [1.5833, 2.6380]], grad_fn=<PowBackward0>)\n"
     ]
    }
   ],
   "source": [
    "y = x**2\n",
    "print(y)"
   ]
  },
  {
   "cell_type": "markdown",
   "metadata": {},
   "source": [
    "Below we can see the operation that created `y`, a power operation `PowBackward0`."
   ]
  },
  {
   "cell_type": "code",
   "execution_count": 17,
   "metadata": {},
   "outputs": [
    {
     "name": "stdout",
     "output_type": "stream",
     "text": [
      "None\n"
     ]
    },
    {
     "name": "stderr",
     "output_type": "stream",
     "text": [
      "/var/folders/t4/czzp1rbj4q9cf104hxdtf2dm0000gn/T/ipykernel_5752/3534834253.py:2: UserWarning: The .grad attribute of a Tensor that is not a leaf Tensor is being accessed. Its .grad attribute won't be populated during autograd.backward(). If you indeed want the .grad field to be populated for a non-leaf Tensor, use .retain_grad() on the non-leaf Tensor. If you access the non-leaf Tensor by mistake, make sure you access the leaf Tensor instead. See github.com/pytorch/pytorch/pull/30531 for more informations. (Triggered internally at /Users/runner/work/_temp/anaconda/conda-bld/pytorch_1678455016227/work/build/aten/src/ATen/core/TensorBody.h:491.)\n",
      "  print(y.grad)\n"
     ]
    }
   ],
   "source": [
    "## grad_fn shows the function that generated this variable\n",
    "print(y.grad)"
   ]
  },
  {
   "cell_type": "markdown",
   "metadata": {},
   "source": [
    "The autograd module keeps track of these operations and knows how to calculate the gradient for each one. In this way, it's able to calculate the gradients for a chain of operations, with respect to any one tensor. Let's reduce the tensor `y` to a scalar value, the mean."
   ]
  },
  {
   "cell_type": "code",
   "execution_count": 23,
   "metadata": {},
   "outputs": [
    {
     "name": "stdout",
     "output_type": "stream",
     "text": [
      "tensor(1.7493, grad_fn=<MeanBackward0>)\n"
     ]
    }
   ],
   "source": [
    "z = y.mean()\n",
    "print(z)"
   ]
  },
  {
   "cell_type": "markdown",
   "metadata": {},
   "source": [
    "You can check the gradients for `x` and `y` but they are empty currently."
   ]
  },
  {
   "cell_type": "code",
   "execution_count": 19,
   "metadata": {},
   "outputs": [
    {
     "name": "stdout",
     "output_type": "stream",
     "text": [
      "None\n"
     ]
    }
   ],
   "source": [
    "print(x.grad)"
   ]
  },
  {
   "cell_type": "markdown",
   "metadata": {},
   "source": [
    "To calculate the gradients, you need to run the `.backward` method on a Variable, `z` for example. This will calculate the gradient for `z` with respect to `x`\n",
    "\n",
    "$$\n",
    "\\frac{\\partial z}{\\partial x} = \\frac{\\partial}{\\partial x}\\left[\\frac{1}{n}\\sum_i^n x_i^2\\right] = \\frac{x}{2}\n",
    "$$"
   ]
  },
  {
   "cell_type": "code",
   "execution_count": 30,
   "metadata": {},
   "outputs": [
    {
     "name": "stdout",
     "output_type": "stream",
     "text": [
      "tensor([[ 0.1143, -0.8252],\n",
      "        [ 0.6291, -0.8121]])\n",
      "tensor([[ 0.1143, -0.8252],\n",
      "        [ 0.6291, -0.8121]], grad_fn=<DivBackward0>)\n"
     ]
    }
   ],
   "source": [
    "# z.backward()\n",
    "print(x.grad)\n",
    "# print(y.grad)\n",
    "print(x/2)"
   ]
  },
  {
   "cell_type": "markdown",
   "metadata": {},
   "source": [
    "These gradients calculations are particularly useful for neural networks. For training we need the gradients of the cost with respect to the weights. With PyTorch, we run data forward through the network to calculate the loss, then, go backwards to calculate the gradients with respect to the loss. Once we have the gradients we can make a gradient descent step. "
   ]
  },
  {
   "cell_type": "markdown",
   "metadata": {},
   "source": [
    "## Loss and Autograd together\n",
    "\n",
    "When we create a network with PyTorch, all of the parameters are initialized with `requires_grad = True`. This means that when we calculate the loss and call `loss.backward()`, the gradients for the parameters are calculated. These gradients are used to update the weights with gradient descent. Below you can see an example of calculating the gradients using a backwards pass."
   ]
  },
  {
   "cell_type": "code",
   "execution_count": 31,
   "metadata": {},
   "outputs": [],
   "source": [
    "# Build a feed-forward network\n",
    "model = nn.Sequential(nn.Linear(784, 128),\n",
    "                      nn.ReLU(),\n",
    "                      nn.Linear(128, 64),\n",
    "                      nn.ReLU(),\n",
    "                      nn.Linear(64, 10),\n",
    "                      nn.LogSoftmax(dim=1))\n",
    "\n",
    "criterion = nn.NLLLoss()\n",
    "dataiter = iter(trainloader)\n",
    "images, labels = next(dataiter)\n",
    "images = images.view(images.shape[0], -1)\n",
    "\n",
    "logits = model(images)\n",
    "loss = criterion(logits, labels) # logitsは予測データ、labelsは正解データ"
   ]
  },
  {
   "cell_type": "code",
   "execution_count": 32,
   "metadata": {},
   "outputs": [
    {
     "name": "stdout",
     "output_type": "stream",
     "text": [
      "Before backward pass: \n",
      " None\n",
      "After backward pass: \n",
      " tensor([[-2.1238e-04, -2.1238e-04, -2.1238e-04,  ..., -2.1238e-04,\n",
      "         -2.1238e-04, -2.1238e-04],\n",
      "        [ 4.0273e-03,  4.0273e-03,  4.0273e-03,  ...,  4.0273e-03,\n",
      "          4.0273e-03,  4.0273e-03],\n",
      "        [-1.7840e-04, -1.7840e-04, -1.7840e-04,  ..., -1.7840e-04,\n",
      "         -1.7840e-04, -1.7840e-04],\n",
      "        ...,\n",
      "        [ 5.2438e-06,  5.2438e-06,  5.2438e-06,  ...,  5.2438e-06,\n",
      "          5.2438e-06,  5.2438e-06],\n",
      "        [-1.3918e-03, -1.3918e-03, -1.3918e-03,  ..., -1.3918e-03,\n",
      "         -1.3918e-03, -1.3918e-03],\n",
      "        [ 2.1008e-03,  2.1008e-03,  2.1008e-03,  ...,  2.1008e-03,\n",
      "          2.1008e-03,  2.1008e-03]])\n"
     ]
    }
   ],
   "source": [
    "print('Before backward pass: \\n', model[0].weight.grad)\n",
    "\n",
    "loss.backward()\n",
    "\n",
    "print('After backward pass: \\n', model[0].weight.grad)"
   ]
  },
  {
   "cell_type": "markdown",
   "metadata": {},
   "source": [
    "## Training the network!\n",
    "\n",
    "There's one last piece we need to start training, an optimizer that we'll use to update the weights with the gradients. We get these from PyTorch's [`optim` package](https://pytorch.org/docs/stable/optim.html). For example we can use stochastic gradient descent with `optim.SGD`. You can see how to define an optimizer below."
   ]
  },
  {
   "cell_type": "code",
   "execution_count": 39,
   "metadata": {},
   "outputs": [
    {
     "name": "stdout",
     "output_type": "stream",
     "text": [
      "[{'params': [Parameter containing:\n",
      "tensor([[-0.0037,  0.0223, -0.0280,  ...,  0.0301,  0.0047, -0.0104],\n",
      "        [-0.0326, -0.0044, -0.0214,  ..., -0.0045,  0.0264, -0.0127],\n",
      "        [-0.0272,  0.0022,  0.0054,  ..., -0.0062,  0.0288, -0.0308],\n",
      "        ...,\n",
      "        [-0.0148,  0.0247, -0.0143,  ...,  0.0161,  0.0324, -0.0073],\n",
      "        [ 0.0177, -0.0347, -0.0043,  ..., -0.0300,  0.0076,  0.0333],\n",
      "        [ 0.0072,  0.0009,  0.0115,  ..., -0.0303,  0.0126,  0.0156]],\n",
      "       requires_grad=True), Parameter containing:\n",
      "tensor([ 3.7507e-03,  2.0402e-04,  2.2344e-02, -2.8156e-02,  1.5090e-02,\n",
      "        -4.3363e-03, -3.3172e-02, -3.4150e-02, -1.3750e-02, -7.1646e-03,\n",
      "        -1.4416e-02,  1.3366e-02, -2.8448e-02,  2.1204e-02,  3.3553e-02,\n",
      "        -2.7650e-02, -3.1302e-02,  1.1931e-02,  2.0711e-02,  1.5079e-03,\n",
      "        -1.9663e-02,  1.8464e-02,  2.6089e-02, -2.5355e-02,  3.0429e-02,\n",
      "        -1.6422e-02,  5.5058e-03,  1.5515e-02, -3.3325e-02, -9.3465e-03,\n",
      "         7.5539e-03, -1.5870e-02, -2.8981e-02,  2.2919e-02, -4.0906e-03,\n",
      "        -3.1087e-02, -1.3275e-02, -4.4864e-05,  1.0182e-02, -3.1693e-02,\n",
      "        -2.1637e-02, -9.7372e-03,  3.4309e-02, -9.4331e-03, -2.9968e-02,\n",
      "        -2.0679e-02,  2.2176e-02,  2.9416e-02,  1.8132e-02, -2.7484e-02,\n",
      "         2.5112e-02,  6.7512e-03,  1.8491e-02, -2.5831e-02,  1.3827e-02,\n",
      "         2.0173e-02,  2.4381e-02, -3.0750e-02,  1.7703e-02,  1.2712e-02,\n",
      "        -3.4050e-02,  2.4448e-02, -3.5654e-02, -1.9469e-02,  2.3409e-02,\n",
      "         5.4086e-03,  1.4979e-02, -4.3661e-03, -2.2019e-02,  3.5563e-02,\n",
      "        -5.8924e-03,  3.8689e-03, -3.4100e-02, -2.3163e-02, -1.5711e-02,\n",
      "         2.9790e-02, -3.1797e-03, -1.2214e-02, -1.2113e-02, -1.5379e-02,\n",
      "         2.9204e-03,  1.9401e-02, -1.8395e-02, -7.3608e-03, -2.5978e-02,\n",
      "        -1.5485e-02, -1.6567e-02, -2.9606e-02, -2.5992e-02, -2.1801e-02,\n",
      "        -8.4501e-03, -2.6543e-02, -1.9099e-02,  1.5216e-03, -2.4280e-02,\n",
      "         1.3469e-02,  4.7626e-03, -2.6875e-02,  5.8036e-03,  6.7426e-03,\n",
      "         2.4692e-02, -1.9909e-02,  5.2129e-03, -1.6660e-02, -3.5983e-03,\n",
      "         2.5037e-02, -3.1730e-02,  1.6124e-02, -1.1096e-02,  2.7981e-02,\n",
      "         8.0739e-03, -4.0245e-03, -2.3246e-02, -5.0560e-03,  1.7113e-02,\n",
      "        -4.8964e-03, -2.6378e-02,  3.4806e-03,  5.6911e-03, -5.9277e-03,\n",
      "        -1.0749e-02,  3.5274e-03, -1.0000e-03, -2.3172e-02,  1.9416e-02,\n",
      "        -3.2073e-02, -9.7405e-03, -3.5200e-02], requires_grad=True), Parameter containing:\n",
      "tensor([[-0.0008,  0.0677,  0.0883,  ..., -0.0044,  0.0585, -0.0281],\n",
      "        [ 0.0503, -0.0716, -0.0465,  ..., -0.0029,  0.0048,  0.0767],\n",
      "        [ 0.0636, -0.0587, -0.0333,  ...,  0.0637, -0.0878, -0.0474],\n",
      "        ...,\n",
      "        [-0.0699,  0.0471, -0.0068,  ...,  0.0462, -0.0207,  0.0207],\n",
      "        [ 0.0218, -0.0801,  0.0339,  ...,  0.0507, -0.0380, -0.0460],\n",
      "        [-0.0405, -0.0180, -0.0187,  ...,  0.0323,  0.0425, -0.0580]],\n",
      "       requires_grad=True), Parameter containing:\n",
      "tensor([ 0.0820, -0.0311,  0.0668, -0.0454,  0.0108, -0.0439,  0.0800, -0.0397,\n",
      "         0.0309, -0.0174, -0.0674, -0.0638, -0.0355,  0.0780,  0.0842,  0.0773,\n",
      "        -0.0796,  0.0381,  0.0518, -0.0465,  0.0211, -0.0358, -0.0450, -0.0052,\n",
      "        -0.0754, -0.0273,  0.0867,  0.0190, -0.0435,  0.0184, -0.0498,  0.0627,\n",
      "        -0.0235, -0.0714,  0.0272, -0.0434,  0.0734,  0.0665,  0.0006,  0.0667,\n",
      "         0.0196,  0.0138,  0.0833,  0.0783, -0.0129,  0.0727, -0.0736, -0.0514,\n",
      "         0.0800,  0.0103,  0.0569, -0.0760,  0.0557, -0.0277, -0.0600, -0.0087,\n",
      "         0.0089,  0.0283, -0.0258,  0.0878,  0.0251, -0.0052,  0.0659,  0.0281],\n",
      "       requires_grad=True), Parameter containing:\n",
      "tensor([[-6.4722e-02,  2.5195e-02, -2.0008e-02,  9.2360e-02, -6.3589e-02,\n",
      "         -4.7428e-02,  6.8654e-03, -4.7090e-02,  1.2372e-01, -9.9217e-02,\n",
      "         -4.6549e-02,  1.1565e-01,  6.3028e-02, -7.0472e-02,  9.2726e-02,\n",
      "          1.4021e-02, -8.1764e-02, -6.6704e-02,  1.0013e-01, -4.0746e-02,\n",
      "         -8.9916e-02, -1.1516e-02, -9.0609e-02, -1.5022e-02, -8.1690e-02,\n",
      "          4.0152e-02, -7.2719e-02, -2.7994e-02,  3.4305e-02, -1.2787e-02,\n",
      "          1.4744e-02, -6.6676e-02, -1.2005e-01, -2.2224e-02,  9.1903e-02,\n",
      "          4.2177e-02, -1.1293e-01,  7.6508e-02, -1.1836e-01, -4.1895e-02,\n",
      "         -6.5625e-02,  7.7117e-02,  8.6960e-02, -7.6354e-04, -5.6148e-02,\n",
      "         -7.2112e-02,  1.1889e-01,  4.9177e-02, -3.2717e-02, -5.2463e-02,\n",
      "         -9.1845e-02, -3.8201e-02,  4.5439e-02, -6.1965e-02,  5.8553e-02,\n",
      "          8.0963e-02, -1.7628e-02, -1.2126e-02, -4.3247e-02, -2.9509e-02,\n",
      "          1.0846e-01,  3.3599e-02, -6.7564e-02, -5.8210e-02],\n",
      "        [-1.7132e-02,  6.2855e-02, -1.0558e-01,  4.5464e-03, -1.8502e-02,\n",
      "          1.1094e-01,  7.2613e-02, -1.1991e-01, -2.8319e-02,  2.4416e-02,\n",
      "          1.0848e-02,  9.1242e-03, -3.9389e-02, -4.9107e-02,  3.5544e-02,\n",
      "          9.5026e-02,  1.0711e-01,  5.6352e-02,  4.6083e-02, -5.8761e-02,\n",
      "         -2.5402e-02, -5.1103e-02, -2.4883e-02,  1.2400e-01,  9.6273e-02,\n",
      "          1.0748e-01,  8.1068e-03,  3.3331e-02, -8.8549e-02,  1.9623e-02,\n",
      "          9.9390e-02,  2.4191e-02,  5.1779e-02,  8.9419e-02,  7.6264e-02,\n",
      "          1.0693e-02,  5.5258e-02,  7.2842e-02, -8.5329e-02, -1.0389e-01,\n",
      "         -1.1952e-01,  9.1812e-03,  1.0573e-01,  8.7873e-03,  8.6453e-02,\n",
      "          3.8513e-02,  3.2371e-02,  8.5387e-02, -1.7942e-02,  7.1609e-02,\n",
      "         -2.3402e-02, -2.2711e-02,  1.2286e-01, -8.9045e-02, -1.0975e-01,\n",
      "         -7.6449e-02, -7.2265e-02, -1.1196e-01, -3.5668e-02, -1.1047e-01,\n",
      "          5.0101e-02,  6.3581e-02,  1.2432e-01, -8.5091e-02],\n",
      "        [-2.3022e-02,  2.9028e-02, -5.4641e-02, -1.1560e-01,  1.0961e-01,\n",
      "          5.3568e-02,  7.7551e-02, -6.1627e-02,  4.5594e-02, -2.8903e-02,\n",
      "         -1.0520e-01, -3.8347e-02,  3.0525e-02, -9.6599e-02,  9.8968e-02,\n",
      "          1.3720e-02, -8.1682e-02,  5.2613e-03, -7.9840e-02, -3.9783e-02,\n",
      "          9.3054e-02,  8.8225e-02,  1.2097e-01,  1.1573e-01, -6.5030e-02,\n",
      "         -3.6296e-02,  3.3556e-02, -3.9326e-02, -9.5067e-02,  8.2914e-02,\n",
      "          1.0307e-01,  9.5568e-02, -1.0344e-01, -1.5693e-02, -1.0534e-01,\n",
      "         -4.7066e-02, -8.3323e-02,  1.0603e-01,  1.6186e-03, -4.7951e-02,\n",
      "          6.7343e-02, -6.2704e-02,  1.9154e-02, -4.4480e-02, -6.6737e-02,\n",
      "          5.2053e-02,  1.0996e-01, -1.0905e-01,  6.9361e-02, -1.2351e-01,\n",
      "          1.1795e-01,  2.7517e-03, -1.0343e-01, -7.2410e-02,  1.1340e-01,\n",
      "          1.2067e-01,  2.6512e-02,  4.3971e-02, -9.4231e-02, -1.1297e-01,\n",
      "          2.6536e-02,  1.1334e-01,  5.3969e-03, -1.0831e-01],\n",
      "        [-3.8299e-02,  4.6909e-05,  2.9295e-02,  9.3826e-02,  1.0685e-01,\n",
      "          9.9753e-02, -1.2126e-01,  3.5741e-02,  7.3086e-02,  2.8836e-02,\n",
      "          5.0715e-02,  2.2066e-02, -3.9715e-02,  8.5654e-03, -7.3147e-02,\n",
      "          2.1726e-02, -2.1619e-02, -2.4370e-02,  4.7156e-03, -4.1122e-02,\n",
      "         -2.5192e-02,  1.1899e-02,  3.7838e-02, -1.5063e-02, -1.6242e-02,\n",
      "          7.8203e-02,  6.5512e-02, -8.0748e-02,  1.5117e-02, -1.0177e-01,\n",
      "          7.7659e-02, -2.7198e-02, -1.1058e-01,  1.6341e-02,  3.1344e-02,\n",
      "          4.9787e-02,  2.3954e-02, -4.8337e-02,  8.6616e-02,  7.1686e-02,\n",
      "         -5.7742e-02,  2.9266e-02, -4.1119e-02,  6.2373e-02,  7.3776e-03,\n",
      "         -8.3589e-02, -5.7146e-02, -9.1366e-02, -7.7798e-02,  1.8935e-02,\n",
      "         -4.0874e-02, -1.0400e-01,  6.7506e-02,  1.0917e-01,  4.2334e-02,\n",
      "          3.4011e-02, -7.3038e-02, -3.6986e-02,  3.5020e-02,  7.5581e-02,\n",
      "         -4.6696e-02,  7.1795e-02, -1.0525e-01, -1.2197e-02],\n",
      "        [-3.5542e-04, -1.1505e-01, -1.6620e-02, -1.1938e-02,  9.3965e-02,\n",
      "          4.9633e-02, -1.2069e-01, -6.5909e-02,  2.8660e-02,  2.4063e-02,\n",
      "         -8.3212e-02, -1.8135e-02, -2.2488e-02,  1.1137e-01, -1.3826e-02,\n",
      "          1.8584e-03,  5.6038e-02, -1.1112e-01, -9.0590e-02, -5.0737e-02,\n",
      "         -5.1768e-02,  6.1618e-02,  9.0869e-02, -7.1709e-02, -5.6792e-02,\n",
      "          1.1808e-01, -1.0387e-01,  1.1362e-01, -3.2083e-02, -7.4431e-02,\n",
      "          3.7885e-02,  4.0540e-04,  1.0898e-01,  1.0996e-01,  1.1605e-01,\n",
      "          3.8297e-02, -1.8047e-03, -5.3636e-02, -5.9654e-02, -8.0347e-02,\n",
      "          8.1524e-02,  3.6503e-02,  4.8186e-02,  8.8996e-02,  1.2116e-01,\n",
      "         -1.1872e-01,  9.8000e-03,  2.8407e-02,  2.7673e-02,  1.0683e-01,\n",
      "          5.0602e-02,  8.7432e-02, -4.7183e-02, -9.4291e-02, -5.7981e-02,\n",
      "         -4.9573e-02, -9.5240e-02, -7.0736e-02, -2.6825e-02, -1.9408e-02,\n",
      "         -4.0300e-02, -5.2106e-02,  6.8248e-02,  2.2993e-02],\n",
      "        [-2.5015e-02, -1.1021e-01,  8.1847e-02,  1.1314e-02,  2.3066e-02,\n",
      "          1.4828e-02,  7.5813e-02,  1.0247e-01, -2.7846e-02,  9.3604e-02,\n",
      "          9.2420e-02, -8.1440e-03, -5.7090e-03, -3.3623e-03,  1.1416e-01,\n",
      "          2.0329e-02, -2.0811e-02,  9.8010e-02,  8.9154e-02, -1.2290e-01,\n",
      "         -4.5935e-02, -1.5296e-02,  1.0584e-01,  7.4255e-02,  5.4308e-03,\n",
      "         -8.5591e-02, -5.3734e-02, -9.0711e-03, -1.1267e-01, -6.2523e-02,\n",
      "         -5.8521e-02,  4.4329e-02,  4.0102e-02,  7.0949e-02,  9.7902e-02,\n",
      "         -2.9977e-02,  1.0313e-01, -1.0810e-01, -3.4158e-03,  7.7836e-02,\n",
      "         -7.5781e-02,  4.3244e-02,  9.6028e-02,  5.5503e-02,  9.8330e-02,\n",
      "         -5.8571e-02, -6.7981e-02,  6.5013e-02, -7.0767e-02, -3.4701e-02,\n",
      "         -9.1956e-02, -7.6229e-02, -5.3915e-02,  1.0816e-01, -8.7594e-02,\n",
      "          7.9635e-02,  3.5697e-02,  4.5730e-02, -6.7697e-02,  9.9384e-02,\n",
      "          1.6687e-02, -5.0833e-02, -7.0276e-02, -8.4915e-02],\n",
      "        [ 6.7620e-02, -7.3733e-02, -3.3095e-02,  7.4704e-02,  3.2231e-02,\n",
      "          1.1159e-01, -7.5599e-02, -9.1130e-02,  1.1313e-01, -3.6224e-03,\n",
      "         -1.1481e-01, -5.4454e-02,  5.7494e-02, -9.1955e-02, -8.5364e-02,\n",
      "         -3.8848e-02,  1.2494e-01, -6.9153e-02, -3.1077e-02, -5.2478e-02,\n",
      "          5.6902e-02,  5.3961e-02,  6.0421e-02,  7.4094e-02, -4.2239e-02,\n",
      "          1.0931e-01, -8.9417e-02,  8.0999e-02, -3.5786e-02,  2.1760e-03,\n",
      "         -1.0460e-02,  7.2353e-02, -4.1312e-02,  5.1896e-02,  6.1327e-02,\n",
      "          8.8978e-02,  7.5436e-02, -1.2499e-01, -1.0049e-01, -1.5023e-02,\n",
      "          9.6876e-02, -1.0533e-01, -1.0083e-01,  4.2564e-02, -7.8911e-02,\n",
      "         -1.0899e-01, -7.5384e-02,  1.7817e-02,  9.3222e-02,  9.2334e-02,\n",
      "         -1.1149e-01,  5.8356e-02, -1.1703e-01, -1.2453e-01,  1.2279e-01,\n",
      "         -5.7887e-02, -6.7909e-02, -1.8003e-02,  6.8451e-02,  5.0921e-02,\n",
      "         -6.9582e-02,  7.1373e-02, -4.1574e-02,  4.9765e-02],\n",
      "        [-1.3121e-02, -6.7916e-02,  2.5797e-02, -1.0225e-01,  1.0331e-01,\n",
      "         -2.7999e-02, -5.0511e-02,  7.9860e-02,  9.4350e-02, -7.9728e-02,\n",
      "         -6.1237e-02, -7.9019e-02,  2.6436e-04, -2.1310e-02, -5.0000e-02,\n",
      "          7.3622e-02,  7.3788e-02, -6.8073e-02,  6.6424e-02,  1.2477e-01,\n",
      "         -9.9376e-02, -1.0459e-01,  4.7290e-02,  6.1366e-02,  6.7458e-02,\n",
      "         -4.4077e-02,  1.5368e-02, -1.0564e-01,  5.0492e-02, -1.2114e-01,\n",
      "         -1.0807e-01,  5.9462e-02, -8.8856e-02, -4.6488e-02, -5.9173e-02,\n",
      "          8.2938e-02,  8.3321e-02,  1.2399e-03,  1.7138e-02, -1.1780e-01,\n",
      "         -7.8890e-02, -3.3727e-02, -7.5177e-02, -2.6466e-02, -1.2151e-01,\n",
      "          7.2805e-02,  9.9515e-03, -1.2346e-01, -7.3706e-02,  3.9138e-02,\n",
      "          9.8189e-03,  1.0631e-01, -5.6499e-02, -7.1323e-02, -5.5678e-02,\n",
      "         -2.1671e-02,  1.2376e-01, -4.0273e-02,  1.1983e-01, -2.4046e-02,\n",
      "         -1.1319e-01, -1.3519e-02,  1.5413e-02,  1.1731e-01],\n",
      "        [-1.1317e-01, -8.6962e-02,  3.1334e-02,  1.1310e-02,  4.5312e-02,\n",
      "          4.7665e-02,  1.0210e-01, -9.1191e-02, -3.8284e-02, -6.9821e-02,\n",
      "         -1.2036e-01,  2.0845e-02,  2.6757e-02, -1.2114e-01, -1.1468e-01,\n",
      "          2.8010e-02, -2.4029e-02, -6.3684e-02,  9.6486e-02, -5.9534e-03,\n",
      "          1.2482e-01,  1.1490e-01,  1.2045e-02, -2.9277e-02, -2.7929e-02,\n",
      "         -8.9976e-02,  3.0699e-02, -1.2946e-02,  1.3879e-02, -1.0001e-01,\n",
      "          4.0743e-02,  8.4249e-02, -4.4519e-02, -8.9968e-02,  2.7180e-04,\n",
      "          8.0176e-02,  5.3527e-02, -1.2344e-02,  4.0030e-02, -3.8533e-02,\n",
      "         -5.1439e-02, -1.2400e-02,  9.3194e-02, -4.0476e-02,  2.6078e-02,\n",
      "         -2.6908e-02, -9.2748e-02, -7.2613e-02, -9.8439e-02, -9.5920e-02,\n",
      "          5.6228e-02,  8.0216e-02, -2.4457e-02,  3.4120e-02,  5.5423e-02,\n",
      "          1.2704e-02,  5.8419e-02,  1.1935e-01, -1.5861e-02, -4.6838e-02,\n",
      "         -3.9148e-02, -8.7510e-02, -4.3558e-02,  1.0420e-01],\n",
      "        [-8.7397e-02, -9.7173e-03, -7.0915e-04, -4.2484e-02,  4.9436e-02,\n",
      "          4.3659e-02, -7.2879e-02, -9.8574e-02,  6.4873e-02, -6.1218e-02,\n",
      "         -1.0100e-02, -5.3242e-02,  3.9306e-03, -2.2719e-02,  1.6761e-02,\n",
      "          9.6977e-02,  3.9517e-02, -1.3306e-02, -6.5621e-02,  6.5145e-02,\n",
      "         -4.6041e-03,  1.0933e-01,  1.0026e-01,  9.8234e-02, -1.2240e-01,\n",
      "         -8.1335e-02,  2.4282e-02,  2.1056e-02, -2.0410e-04,  7.8887e-03,\n",
      "          1.0174e-01, -6.9893e-02,  2.8265e-02, -9.6297e-02, -1.1372e-01,\n",
      "          5.8351e-02, -1.1269e-01, -8.5607e-02, -9.7155e-02, -8.9683e-02,\n",
      "          5.2349e-02, -1.0243e-01,  5.6155e-02, -2.5998e-02,  6.1278e-02,\n",
      "          5.0299e-02, -1.0378e-01, -4.0920e-02,  8.0614e-02, -1.1728e-01,\n",
      "         -1.2082e-02, -9.2613e-02,  3.4586e-02, -9.3705e-02, -4.6732e-04,\n",
      "          1.2377e-01,  8.2079e-02, -9.8603e-02, -8.5879e-02, -3.5056e-02,\n",
      "          7.4015e-02,  3.4566e-02, -5.3990e-02, -5.6616e-02]],\n",
      "       requires_grad=True), Parameter containing:\n",
      "tensor([-0.0394, -0.0507, -0.0157,  0.0483, -0.0361,  0.0361, -0.1047,  0.0986,\n",
      "        -0.0961, -0.0957], requires_grad=True)], 'lr': 0.01, 'momentum': 0, 'dampening': 0, 'weight_decay': 0, 'nesterov': False, 'maximize': False, 'foreach': None, 'differentiable': False}]\n"
     ]
    }
   ],
   "source": [
    "from torch import optim\n",
    "\n",
    "# Optimizers require the parameters to optimize and a learning rate\n",
    "optimizer = optim.SGD(model.parameters(), lr=0.01)\n",
    "print(optimizer.param_groups)"
   ]
  },
  {
   "cell_type": "markdown",
   "metadata": {},
   "source": [
    "Now we know how to use all the individual parts so it's time to see how they work together. Let's consider just one learning step before looping through all the data. The general process with PyTorch:\n",
    "\n",
    "* Make a forward pass through the network \n",
    "* Use the network output to calculate the loss\n",
    "* Perform a backward pass through the network with `loss.backward()` to calculate the gradients\n",
    "* Take a step with the optimizer to update the weights\n",
    "\n",
    "Below I'll go through one training step and print out the weights and gradients so you can see how it changes. Note that I have a line of code `optimizer.zero_grad()`. When you do multiple backwards passes with the same parameters, the gradients are accumulated. This means that you need to zero the gradients on each training pass or you'll retain gradients from previous training batches."
   ]
  },
  {
   "cell_type": "code",
   "execution_count": 42,
   "metadata": {},
   "outputs": [
    {
     "name": "stdout",
     "output_type": "stream",
     "text": [
      "Initial weights -  Parameter containing:\n",
      "tensor([[-0.0037,  0.0223, -0.0280,  ...,  0.0301,  0.0047, -0.0104],\n",
      "        [-0.0326, -0.0044, -0.0214,  ..., -0.0045,  0.0264, -0.0127],\n",
      "        [-0.0272,  0.0022,  0.0054,  ..., -0.0062,  0.0288, -0.0308],\n",
      "        ...,\n",
      "        [-0.0148,  0.0247, -0.0143,  ...,  0.0161,  0.0324, -0.0073],\n",
      "        [ 0.0177, -0.0347, -0.0043,  ..., -0.0300,  0.0076,  0.0333],\n",
      "        [ 0.0072,  0.0009,  0.0115,  ..., -0.0303,  0.0126,  0.0156]],\n",
      "       requires_grad=True)\n",
      "Gradient - tensor([[ 0.0003,  0.0003,  0.0003,  ...,  0.0003,  0.0003,  0.0003],\n",
      "        [ 0.0059,  0.0059,  0.0059,  ...,  0.0059,  0.0059,  0.0059],\n",
      "        [-0.0000, -0.0000, -0.0000,  ..., -0.0000, -0.0000, -0.0000],\n",
      "        ...,\n",
      "        [ 0.0009,  0.0009,  0.0009,  ...,  0.0009,  0.0009,  0.0009],\n",
      "        [-0.0020, -0.0020, -0.0020,  ..., -0.0020, -0.0020, -0.0020],\n",
      "        [ 0.0015,  0.0015,  0.0015,  ...,  0.0015,  0.0015,  0.0015]])\n",
      "Gradient - tensor([[ 0.0000e+00, -1.3478e-03,  0.0000e+00,  ...,  2.4086e-03,\n",
      "          4.7625e-04,  2.9637e-04],\n",
      "        [-7.9573e-06,  2.0538e-03,  0.0000e+00,  ...,  1.7160e-03,\n",
      "          5.8146e-04,  4.4344e-04],\n",
      "        [ 6.3057e-06,  1.5445e-03,  0.0000e+00,  ..., -8.7632e-04,\n",
      "         -3.1281e-04, -2.0876e-04],\n",
      "        ...,\n",
      "        [-1.1827e-05, -1.3873e-04,  0.0000e+00,  ...,  3.7147e-03,\n",
      "          3.4759e-04,  5.0044e-04],\n",
      "        [-3.0092e-06,  2.3085e-03,  0.0000e+00,  ..., -2.4928e-04,\n",
      "          1.8074e-03,  1.2781e-03],\n",
      "        [ 0.0000e+00,  5.7714e-04,  0.0000e+00,  ..., -1.5344e-03,\n",
      "         -6.3470e-04, -4.5094e-04]])\n"
     ]
    }
   ],
   "source": [
    "print('Initial weights - ', model[0].weight)\n",
    "\n",
    "dataiter = iter(trainloader)\n",
    "images, labels = next(dataiter)\n",
    "images.resize_(64, 784) #画像のテンソルを１次元情報に変換（これにより位置関係の情報が失われるが、畳み込みにより解決する）\n",
    "\n",
    "# Clear the gradients, do this because gradients are accumulated\n",
    "optimizer.zero_grad()\n",
    "\n",
    "# Forward pass, then backward pass, then update weights\n",
    "output = model(images)\n",
    "loss = criterion(output, labels)\n",
    "loss.backward() # 損失を微分し、更新の参考にする\n",
    "print('Gradient -', model[0].weight.grad)\n",
    "print('Gradient -', model[2].weight.grad)"
   ]
  },
  {
   "cell_type": "code",
   "execution_count": 43,
   "metadata": {},
   "outputs": [
    {
     "name": "stdout",
     "output_type": "stream",
     "text": [
      "Updated weights -  Parameter containing:\n",
      "tensor([[-0.0037,  0.0223, -0.0280,  ...,  0.0301,  0.0047, -0.0104],\n",
      "        [-0.0327, -0.0044, -0.0215,  ..., -0.0046,  0.0264, -0.0128],\n",
      "        [-0.0272,  0.0022,  0.0054,  ..., -0.0062,  0.0288, -0.0308],\n",
      "        ...,\n",
      "        [-0.0148,  0.0247, -0.0143,  ...,  0.0161,  0.0323, -0.0073],\n",
      "        [ 0.0177, -0.0347, -0.0043,  ..., -0.0300,  0.0077,  0.0333],\n",
      "        [ 0.0072,  0.0008,  0.0115,  ..., -0.0303,  0.0126,  0.0156]],\n",
      "       requires_grad=True)\n"
     ]
    }
   ],
   "source": [
    "# Take an update step and view the new weights\n",
    "optimizer.step()\n",
    "print('Updated weights - ', model[0].weight)"
   ]
  },
  {
   "cell_type": "markdown",
   "metadata": {},
   "source": [
    "### Training for real\n",
    "\n",
    "Now we'll put this algorithm into a loop so we can go through all the images. Some nomenclature, one pass through the entire dataset is called an *epoch*. So here we're going to loop through `trainloader` to get our training batches. For each batch, we'll be doing a training pass where we calculate the loss, do a backwards pass, and update the weights.\n",
    "\n",
    ">**Exercise:** Implement the training pass for our network. If you implemented it correctly, you should see the training loss drop with each epoch."
   ]
  },
  {
   "cell_type": "code",
   "execution_count": 55,
   "metadata": {},
   "outputs": [
    {
     "name": "stdout",
     "output_type": "stream",
     "text": [
      "938\n",
      "Training loss: 2.3062980401236364\n",
      "938\n",
      "Training loss: 2.3062903329507627\n",
      "938\n",
      "Training loss: 2.30629316779342\n",
      "938\n",
      "Training loss: 2.3063137277102927\n",
      "938\n",
      "Training loss: 2.306286507069683\n",
      "938\n",
      "Training loss: 2.3062950334569283\n",
      "938\n",
      "Training loss: 2.3062957563379936\n",
      "938\n",
      "Training loss: 2.306290298382611\n",
      "938\n",
      "Training loss: 2.3063025449130583\n",
      "938\n",
      "Training loss: 2.30630377742019\n"
     ]
    }
   ],
   "source": [
    "## Your solution here\n",
    "\n",
    "model = nn.Sequential(nn.Linear(784, 128),\n",
    "                      nn.ReLU(),\n",
    "                      nn.Linear(128, 64),\n",
    "                      nn.ReLU(),\n",
    "                      nn.Linear(64, 10),\n",
    "                      nn.LogSoftmax(dim=1))\n",
    "\n",
    "criterion = nn.NLLLoss()\n",
    "optimizer = optim.SGD(model.parameters(), lr=0.003) # おそらく参照先（modelの重み）をここで登録している\n",
    "\n",
    "epochs = 10\n",
    "for e in range(epochs):\n",
    "    running_loss = 0\n",
    "    for images, labels in trainloader:\n",
    "        # Flatten MNIST images into a 784 long vector\n",
    "        images = images.view(images.shape[0], -1)\n",
    "    \n",
    "        # TODO: Training pass\n",
    "        optimizer.zero_grad()\n",
    "        output = model(images)\n",
    "        loss = criterion(output, labels)\n",
    "        loss.backward()\n",
    "        optimizer.step() # SGDを適用して重みを更新する\n",
    "        \n",
    "        running_loss += loss.item()\n",
    "    else:\n",
    "        print(len(trainloader))\n",
    "        print(f\"Training loss: {running_loss/len(trainloader)}\")"
   ]
  },
  {
   "cell_type": "markdown",
   "metadata": {},
   "source": [
    "With the network trained, we can check out it's predictions."
   ]
  },
  {
   "cell_type": "code",
   "execution_count": 56,
   "metadata": {},
   "outputs": [
    {
     "data": {
      "image/png": "[encoded data removed]",
      "text/plain": [
       "<Figure size 600x900 with 2 Axes>"
      ]
     },
     "metadata": {},
     "output_type": "display_data"
    }
   ],
   "source": [
    "%matplotlib inline\n",
    "import helper\n",
    "\n",
    "dataiter = iter(trainloader)\n",
    "images, labels = next(dataiter)\n",
    "\n",
    "img = images[0].view(1, 784)\n",
    "# Turn off gradients to speed up this part　推論時には勾配計算は不要\n",
    "with torch.no_grad():\n",
    "    logps = model(img)\n",
    "\n",
    "# Output of the network are log-probabilities, need to take exponential for probabilities\n",
    "ps = torch.exp(logps)\n",
    "helper.view_classify(img.view(4, 7, 28), ps) # 内部で(1,28,28)にresizeしているので、どんな形でもいい"
   ]
  },
  {
   "cell_type": "markdown",
   "metadata": {},
   "source": [
    "Now our network is brilliant. It can accurately predict the digits in our images. Next up you'll write the code for training a neural network on a more complex dataset."
   ]
  }
 ],
 "metadata": {
  "kernelspec": {
   "display_name": "Python 3",
   "language": "python",
   "name": "python3"
  },
  "language_info": {
   "codemirror_mode": {
    "name": "ipython",
    "version": 3
   },
   "file_extension": ".py",
   "mimetype": "text/x-python",
   "name": "python",
   "nbconvert_exporter": "python",
   "pygments_lexer": "ipython3",
   "version": "3.8.16"
  }
 },
 "nbformat": 4,
 "nbformat_minor": 2
}
