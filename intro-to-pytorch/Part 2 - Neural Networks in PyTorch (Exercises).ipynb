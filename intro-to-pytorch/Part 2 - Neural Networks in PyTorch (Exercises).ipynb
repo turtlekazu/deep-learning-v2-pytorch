{
 "cells": [
  {
   "cell_type": "markdown",
   "metadata": {},
   "source": [
    "# Neural networks with PyTorch\n",
    "\n",
    "Deep learning networks tend to be massive with dozens or hundreds of layers, that's where the term \"deep\" comes from. You can build one of these deep networks using only weight matrices as we did in the previous notebook, but in general it's very cumbersome and difficult to implement. PyTorch has a nice module `nn` that provides a nice way to efficiently build large neural networks."
   ]
  },
  {
   "cell_type": "code",
   "execution_count": 77,
   "metadata": {
    "collapsed": true
   },
   "outputs": [],
   "source": [
    "# Import necessary packages\n",
    "\n",
    "%matplotlib inline\n",
    "%config InlineBackend.figure_format = 'retina'\n",
    "\n",
    "import numpy as np\n",
    "import torch\n",
    "\n",
    "import helper\n",
    "\n",
    "import matplotlib.pyplot as plt"
   ]
  },
  {
   "cell_type": "markdown",
   "metadata": {},
   "source": [
    "\n",
    "Now we're going to build a larger network that can solve a (formerly) difficult problem, identifying text in an image. Here we'll use the MNIST dataset which consists of greyscale handwritten digits. Each image is 28x28 pixels, you can see a sample below\n",
    "\n",
    "<img src='assets/mnist.png'>\n",
    "\n",
    "Our goal is to build a neural network that can take one of these images and predict the digit in the image.\n",
    "\n",
    "First up, we need to get our dataset. This is provided through the `torchvision` package. The code below will download the MNIST dataset, then create training and test datasets for us. Don't worry too much about the details here, you'll learn more about this later."
   ]
  },
  {
   "cell_type": "code",
   "execution_count": 78,
   "metadata": {},
   "outputs": [],
   "source": [
    "# The MNIST datasets are hosted on yann.lecun.com that has moved under CloudFlare protection\n",
    "# Run this script to enable the datasets download\n",
    "# Reference: https://github.com/pytorch/vision/issues/1938\n",
    "\n",
    "from six.moves import urllib\n",
    "opener = urllib.request.build_opener()\n",
    "opener.addheaders = [('User-agent', 'Mozilla/5.0')]\n",
    "urllib.request.install_opener(opener)"
   ]
  },
  {
   "cell_type": "code",
   "execution_count": 79,
   "metadata": {
    "collapsed": true
   },
   "outputs": [],
   "source": [
    "### Run this cell\n",
    "\n",
    "from torchvision import datasets, transforms\n",
    "\n",
    "# Define a transform to normalize the data\n",
    "transform = transforms.Compose([transforms.ToTensor(),\n",
    "                              transforms.Normalize((0.5,), (0.5,)),\n",
    "                              ])\n",
    "\n",
    "# Download and load the training data\n",
    "trainset = datasets.MNIST('~/.pytorch/MNIST_data/', download=True, train=True, transform=transform)\n",
    "trainloader = torch.utils.data.DataLoader(trainset, batch_size=64, shuffle=True)"
   ]
  },
  {
   "cell_type": "markdown",
   "metadata": {},
   "source": [
    "We have the training data loaded into `trainloader` and we make that an iterator with `iter(trainloader)`. Later, we'll use this to loop through the dataset for training, like\n",
    "\n",
    "```python\n",
    "for image, label in trainloader:\n",
    "    ## do things with images and labels\n",
    "```\n",
    "\n",
    "You'll notice I created the `trainloader` with a batch size of 64, and `shuffle=True`. The batch size is the number of images we get in one iteration from the data loader and pass through our network, often called a *batch*. And `shuffle=True` tells it to shuffle the dataset every time we start going through the data loader again. But here I'm just grabbing the first batch so we can check out the data. We can see below that `images` is just a tensor with size `(64, 1, 28, 28)`. So, 64 images per batch, 1 color channel, and 28x28 images."
   ]
  },
  {
   "cell_type": "code",
   "execution_count": 6,
   "metadata": {
    "collapsed": true
   },
   "outputs": [
    {
     "name": "stdout",
     "output_type": "stream",
     "text": [
      "<class 'torch.Tensor'>\n",
      "torch.Size([64, 1, 28, 28])\n",
      "torch.Size([64])\n"
     ]
    }
   ],
   "source": [
    "dataiter = iter(trainloader)\n",
    "images, labels = next(dataiter)\n",
    "print(type(images))\n",
    "print(images.shape)\n",
    "print(labels.shape)"
   ]
  },
  {
   "cell_type": "markdown",
   "metadata": {},
   "source": [
    "This is what one of the images looks like. "
   ]
  },
  {
   "cell_type": "code",
   "execution_count": 7,
   "metadata": {
    "collapsed": true
   },
   "outputs": [
    {
     "data": {
      "image/png": "[encoded data removed]",
      "text/plain": [
       "<Figure size 640x480 with 1 Axes>"
      ]
     },
     "metadata": {
      "image/png": {
       "height": 413,
       "width": 416
      }
     },
     "output_type": "display_data"
    }
   ],
   "source": [
    "plt.imshow(images[1].numpy().squeeze(), cmap='Greys_r');"
   ]
  },
  {
   "cell_type": "markdown",
   "metadata": {},
   "source": [
    "First, let's try to build a simple network for this dataset using weight matrices and matrix multiplications. Then, we'll see how to do it using PyTorch's `nn` module which provides a much more convenient and powerful method for defining network architectures.\n",
    "\n",
    "The networks you've seen so far are called *fully-connected* or *dense* networks. Each unit in one layer is connected to each unit in the next layer. In fully-connected networks, the input to each layer must be a one-dimensional vector (which can be stacked into a 2D tensor as a batch of multiple examples). However, our images are 28x28 2D tensors, so we need to convert them into 1D vectors. Thinking about sizes, we need to convert the batch of images with shape `(64, 1, 28, 28)` to a have a shape of `(64, 784)`, 784 is 28 times 28. This is typically called *flattening*, we flattened the 2D images into 1D vectors.\n",
    "\n",
    "Previously you built a network with one output unit. Here we need 10 output units, one for each digit. We want our network to predict the digit shown in an image, so what we'll do is calculate probabilities that the image is of any one digit or class. This ends up being a discrete probability distribution over the classes (digits) that tells us the most likely class for the image. That means we need 10 output units for the 10 classes (digits). We'll see how to convert the network output into a probability distribution next.\n",
    "\n",
    "> **Exercise:** Flatten the batch of images `images`. Then build a multi-layer network with 784 input units, 256 hidden units, and 10 output units using random tensors for the weights and biases. For now, use a sigmoid activation for the hidden layer. Leave the output layer without an activation, we'll add one that gives us a probability distribution next."
   ]
  },
  {
   "cell_type": "code",
   "execution_count": 57,
   "metadata": {
    "collapsed": true
   },
   "outputs": [
    {
     "name": "stdout",
     "output_type": "stream",
     "text": [
      "tensor([[1.7279e-03, 2.2851e-10, 9.9945e-01, 9.3189e-01, 9.9807e-01, 2.4769e-02,\n",
      "         5.3498e-05, 6.3020e-03, 7.3947e-05, 9.9827e-01],\n",
      "        [2.6809e-08, 2.0367e-06, 4.9582e-01, 9.7763e-01, 9.9997e-01, 1.5827e-01,\n",
      "         1.0000e+00, 3.5554e-01, 1.4241e-07, 1.3109e-04],\n",
      "        [3.6507e-07, 3.3815e-08, 8.5722e-01, 9.6803e-01, 1.0000e+00, 2.6452e-02,\n",
      "         5.7300e-03, 9.9503e-01, 2.9070e-14, 2.4291e-04]])\n"
     ]
    }
   ],
   "source": [
    "## Your solution\n",
    "W1 = torch.randn(784, 256)\n",
    "W2 = torch.randn(256, 10)\n",
    "\n",
    "B1 = torch.randn(1, 256)\n",
    "B2 = torch.randn(1, 10)\n",
    "\n",
    "flatten = torch.nn.Flatten()\n",
    "features = flatten(images)\n",
    "\n",
    "def activation(x):\n",
    "    return 1 / (1 + torch.exp(-x))\n",
    "\n",
    "h = activation(torch.mm(features, W1) + B1)\n",
    "out = activation(torch.mm(h, W2) + B2)\n",
    "print(out[:3])\n",
    "# output of your network, should have shape (64,10)"
   ]
  },
  {
   "cell_type": "markdown",
   "metadata": {},
   "source": [
    "Now we have 10 outputs for our network. We want to pass in an image to our network and get out a probability distribution over the classes that tells us the likely class(es) the image belongs to. Something that looks like this:\n",
    "<img src='assets/image_distribution.png' width=500px>\n",
    "\n",
    "Here we see that the probability for each class is roughly the same. This is representing an untrained network, it hasn't seen any data yet so it just returns a uniform distribution with equal probabilities for each class.\n",
    "\n",
    "To calculate this probability distribution, we often use the [**softmax** function](https://en.wikipedia.org/wiki/Softmax_function). Mathematically this looks like\n",
    "\n",
    "$$\n",
    "\\Large \\sigma(x_i) = \\cfrac{e^{x_i}}{\\sum_k^K{e^{x_k}}}\n",
    "$$\n",
    "\n",
    "What this does is squish each input $x_i$ between 0 and 1 and normalizes the values to give you a proper probability distribution where the probabilites sum up to one.\n",
    "\n",
    "> **Exercise:** Implement a function `softmax` that performs the softmax calculation and returns probability distributions for each example in the batch. Note that you'll need to pay attention to the shapes when doing this. If you have a tensor `a` with shape `(64, 10)` and a tensor `b` with shape `(64,)`, doing `a/b` will give you an error because PyTorch will try to do the division across the columns (called broadcasting) but you'll get a size mismatch. The way to think about this is for each of the 64 examples, you only want to divide by one value, the sum in the denominator. So you need `b` to have a shape of `(64, 1)`. This way PyTorch will divide the 10 values in each row of `a` by the one value in each row of `b`. Pay attention to how you take the sum as well. You'll need to define the `dim` keyword in `torch.sum`. Setting `dim=0` takes the sum across the rows while `dim=1` takes the sum across the columns."
   ]
  },
  {
   "cell_type": "code",
   "execution_count": 64,
   "metadata": {
    "collapsed": true
   },
   "outputs": [
    {
     "name": "stdout",
     "output_type": "stream",
     "text": [
      "torch.Size([64, 10])\n",
      "tensor([1.0000, 1.0000, 1.0000, 1.0000, 1.0000, 1.0000, 1.0000, 1.0000, 1.0000,\n",
      "        1.0000, 1.0000, 1.0000, 1.0000, 1.0000, 1.0000, 1.0000, 1.0000, 1.0000,\n",
      "        1.0000, 1.0000, 1.0000, 1.0000, 1.0000, 1.0000, 1.0000, 1.0000, 1.0000,\n",
      "        1.0000, 1.0000, 1.0000, 1.0000, 1.0000, 1.0000, 1.0000, 1.0000, 1.0000,\n",
      "        1.0000, 1.0000, 1.0000, 1.0000, 1.0000, 1.0000, 1.0000, 1.0000, 1.0000,\n",
      "        1.0000, 1.0000, 1.0000, 1.0000, 1.0000, 1.0000, 1.0000, 1.0000, 1.0000,\n",
      "        1.0000, 1.0000, 1.0000, 1.0000, 1.0000, 1.0000, 1.0000, 1.0000, 1.0000,\n",
      "        1.0000])\n"
     ]
    }
   ],
   "source": [
    "def softmax(x):\n",
    "    ## TODO: Implement the softmax function here\n",
    "    sum = torch.sum(torch.exp(x), dim=1).view(-1,1)\n",
    "    # print(sum)\n",
    "    return torch.exp(x)/sum.view(64,1)\n",
    "\n",
    "# Here, out should be the output of the network in the previous excercise with shape (64,10)\n",
    "probabilities = softmax(out)\n",
    "\n",
    "# Does it have the right shape? Should be (64, 10)\n",
    "print(probabilities.shape)\n",
    "# Does it sum to 1?\n",
    "print(probabilities.sum(dim=1))"
   ]
  },
  {
   "cell_type": "markdown",
   "metadata": {},
   "source": [
    "## Building networks with PyTorch\n",
    "\n",
    "PyTorch provides a module `nn` that makes building networks much simpler. Here I'll show you how to build the same one as above with 784 inputs, 256 hidden units, 10 output units and a softmax output."
   ]
  },
  {
   "cell_type": "code",
   "execution_count": 61,
   "metadata": {
    "collapsed": true
   },
   "outputs": [],
   "source": [
    "from torch import nn"
   ]
  },
  {
   "cell_type": "code",
   "execution_count": 62,
   "metadata": {
    "collapsed": true
   },
   "outputs": [],
   "source": [
    "class Network(nn.Module):\n",
    "    def __init__(self):\n",
    "        super().__init__()\n",
    "        \n",
    "        # Inputs to hidden layer linear transformation\n",
    "        self.hidden = nn.Linear(784, 256)\n",
    "        # Output layer, 10 units - one for each digit\n",
    "        self.output = nn.Linear(256, 10)\n",
    "        \n",
    "        # Define sigmoid activation and softmax output \n",
    "        self.sigmoid = nn.Sigmoid()\n",
    "        self.softmax = nn.Softmax(dim=1)\n",
    "        \n",
    "    def forward(self, x):\n",
    "        # Pass the input tensor through each of our operations\n",
    "        x = self.hidden(x)\n",
    "        x = self.sigmoid(x)\n",
    "        x = self.output(x)\n",
    "        x = self.softmax(x)\n",
    "        \n",
    "        return x"
   ]
  },
  {
   "cell_type": "markdown",
   "metadata": {},
   "source": [
    "Let's go through this bit by bit.\n",
    "\n",
    "```python\n",
    "class Network(nn.Module):\n",
    "```\n",
    "\n",
    "Here we're inheriting from `nn.Module`. Combined with `super().__init__()` this creates a class that tracks the architecture and provides a lot of useful methods and attributes. It is mandatory to inherit from `nn.Module` when you're creating a class for your network. The name of the class itself can be anything.\n",
    "\n",
    "```python\n",
    "self.hidden = nn.Linear(784, 256)\n",
    "```\n",
    "\n",
    "This line creates a module for a linear transformation, $x\\mathbf{W} + b$, with 784 inputs and 256 outputs and assigns it to `self.hidden`. The module automatically creates the weight and bias tensors which we'll use in the `forward` method. You can access the weight and bias tensors once the network (`net`) is created with `net.hidden.weight` and `net.hidden.bias`.\n",
    "\n",
    "```python\n",
    "self.output = nn.Linear(256, 10)\n",
    "```\n",
    "\n",
    "Similarly, this creates another linear transformation with 256 inputs and 10 outputs.\n",
    "\n",
    "```python\n",
    "self.sigmoid = nn.Sigmoid()\n",
    "self.softmax = nn.Softmax(dim=1)\n",
    "```\n",
    "\n",
    "Here I defined operations for the sigmoid activation and softmax output. Setting `dim=1` in `nn.Softmax(dim=1)` calculates softmax across the columns.\n",
    "\n",
    "```python\n",
    "def forward(self, x):\n",
    "```\n",
    "\n",
    "PyTorch networks created with `nn.Module` must have a `forward` method defined. It takes in a tensor `x` and passes it through the operations you defined in the `__init__` method.\n",
    "\n",
    "```python\n",
    "x = self.hidden(x)\n",
    "x = self.sigmoid(x)\n",
    "x = self.output(x)\n",
    "x = self.softmax(x)\n",
    "```\n",
    "\n",
    "Here the input tensor `x` is passed through each operation and reassigned to `x`. We can see that the input tensor goes through the hidden layer, then a sigmoid function, then the output layer, and finally the softmax function. It doesn't matter what you name the variables here, as long as the inputs and outputs of the operations match the network architecture you want to build. The order in which you define things in the `__init__` method doesn't matter, but you'll need to sequence the operations correctly in the `forward` method.\n",
    "\n",
    "Now we can create a `Network` object."
   ]
  },
  {
   "cell_type": "code",
   "execution_count": 63,
   "metadata": {
    "collapsed": true
   },
   "outputs": [
    {
     "data": {
      "text/plain": [
       "Network(\n",
       "  (hidden): Linear(in_features=784, out_features=256, bias=True)\n",
       "  (output): Linear(in_features=256, out_features=10, bias=True)\n",
       "  (sigmoid): Sigmoid()\n",
       "  (softmax): Softmax(dim=1)\n",
       ")"
      ]
     },
     "execution_count": 63,
     "metadata": {},
     "output_type": "execute_result"
    }
   ],
   "source": [
    "# Create the network and look at it's text representation\n",
    "model = Network()\n",
    "model"
   ]
  },
  {
   "cell_type": "markdown",
   "metadata": {},
   "source": [
    "You can define the network somewhat more concisely and clearly using the `torch.nn.functional` module. This is the most common way you'll see networks defined as many operations are simple element-wise functions. We normally import this module as `F`, `import torch.nn.functional as F`."
   ]
  },
  {
   "cell_type": "code",
   "execution_count": 67,
   "metadata": {
    "collapsed": true
   },
   "outputs": [
    {
     "data": {
      "text/plain": [
       "Network(\n",
       "  (hidden): Linear(in_features=784, out_features=256, bias=True)\n",
       "  (output): Linear(in_features=256, out_features=10, bias=True)\n",
       ")"
      ]
     },
     "execution_count": 67,
     "metadata": {},
     "output_type": "execute_result"
    }
   ],
   "source": [
    "import torch.nn.functional as F\n",
    "\n",
    "class Network(nn.Module):\n",
    "    def __init__(self):\n",
    "        super().__init__()\n",
    "        # Inputs to hidden layer linear transformation\n",
    "        self.hidden = nn.Linear(784, 256)\n",
    "        # Output layer, 10 units - one for each digit\n",
    "        self.output = nn.Linear(256, 10)\n",
    "        \n",
    "    def forward(self, x):\n",
    "        # Hidden layer with sigmoid activation\n",
    "        x = F.sigmoid(self.hidden(x))\n",
    "        # Output layer with softmax activation\n",
    "        x = F.softmax(self.output(x), dim=1)\n",
    "        \n",
    "        return x\n",
    "    \n",
    "net = Network()\n",
    "net"
   ]
  },
  {
   "cell_type": "markdown",
   "metadata": {},
   "source": [
    "### Activation functions\n",
    "\n",
    "So far we've only been looking at the sigmoid activation function, but in general any function can be used as an activation function. The only requirement is that for a network to approximate a non-linear function, the activation functions must be non-linear. Here are a few more examples of common activation functions: Tanh (hyperbolic tangent), and ReLU (rectified linear unit).\n",
    "\n",
    "<img src=\"assets/activation.png\" width=700px>\n",
    "\n",
    "In practice, the ReLU function is used almost exclusively as the activation function for hidden layers."
   ]
  },
  {
   "cell_type": "markdown",
   "metadata": {},
   "source": [
    "### Your Turn to Build a Network\n",
    "\n",
    "<img src=\"assets/mlp_mnist.png\" width=600px>\n",
    "\n",
    "> **Exercise:** Create a network with 784 input units, a hidden layer with 128 units and a ReLU activation, then a hidden layer with 64 units and a ReLU activation, and finally an output layer with a softmax activation as shown above. You can use a ReLU activation with the `nn.ReLU` module or `F.relu` function.\n",
    "\n",
    "It's good practice to name your layers by their type of network, for instance 'fc' to represent a fully-connected layer. As you code your solution, use `fc1`, `fc2`, and `fc3` as your layer names."
   ]
  },
  {
   "cell_type": "code",
   "execution_count": 68,
   "metadata": {
    "collapsed": true,
    "scrolled": true
   },
   "outputs": [
    {
     "data": {
      "text/plain": [
       "MyNetwork(\n",
       "  (hidden0): Linear(in_features=784, out_features=128, bias=True)\n",
       "  (hidden1): Linear(in_features=128, out_features=64, bias=True)\n",
       "  (output): Linear(in_features=64, out_features=10, bias=True)\n",
       ")"
      ]
     },
     "execution_count": 68,
     "metadata": {},
     "output_type": "execute_result"
    }
   ],
   "source": [
    "## Your solution here\n",
    "import torch.nn.functional as F\n",
    "\n",
    "class MyNetwork(nn.Module):\n",
    "    def __init__(self):\n",
    "        super().__init__()\n",
    "        self.hidden0 = nn.Linear(784, 128)\n",
    "        self.hidden1 = nn.Linear(128, 64)\n",
    "        self.output = nn.Linear(64, 10)\n",
    "    \n",
    "    def forward(self, x):\n",
    "        x = F.relu(self.hidden0(x))\n",
    "        x = F.relu(self.hidden1(x))\n",
    "        x = F.softmax(self.output(x))\n",
    "\n",
    "        return x\n",
    "\n",
    "network = MyNetwork()\n",
    "network"
   ]
  },
  {
   "cell_type": "markdown",
   "metadata": {},
   "source": [
    "### Initializing weights and biases\n",
    "\n",
    "The weights and such are automatically initialized for you, but it's possible to customize how they are initialized. The weights and biases are tensors attached to the layer you defined, you can get them with `model.fc1.weight` for instance."
   ]
  },
  {
   "cell_type": "code",
   "execution_count": 73,
   "metadata": {
    "collapsed": true
   },
   "outputs": [
    {
     "name": "stdout",
     "output_type": "stream",
     "text": [
      "tensor([-6.0657e-03, -8.1320e-03,  7.6861e-03,  1.1984e-02, -3.2169e-02,\n",
      "        -2.7609e-02,  4.4386e-03,  6.8593e-03,  3.2338e-02,  3.4952e-03,\n",
      "        -2.3811e-02,  2.7286e-02, -1.0068e-02, -1.6232e-02,  1.5861e-02,\n",
      "        -1.0677e-02, -3.0909e-02,  1.8553e-02, -2.8550e-02, -3.8103e-03,\n",
      "        -2.2263e-02,  1.9882e-02,  1.2505e-02, -1.3570e-02, -2.3071e-03,\n",
      "         2.6746e-02,  2.0983e-02,  2.0989e-02,  1.6671e-03,  2.6502e-02,\n",
      "         3.0407e-02, -3.2479e-02, -3.0190e-02, -3.2014e-02, -1.3508e-02,\n",
      "        -3.2226e-02,  3.6811e-03,  1.6477e-03,  2.5308e-02,  2.5463e-02,\n",
      "         3.0096e-02, -2.2237e-02,  6.3947e-03, -2.9551e-02,  1.0912e-02,\n",
      "        -1.7885e-03,  2.4303e-02, -2.8261e-02,  3.5260e-02,  8.8603e-03,\n",
      "         3.2640e-02, -1.0494e-02, -2.6604e-02,  2.3811e-02, -2.8796e-02,\n",
      "        -6.8215e-03, -1.5259e-02, -1.1314e-02, -1.0632e-02,  1.2443e-02,\n",
      "         3.0975e-02,  8.2854e-05, -1.5659e-02,  1.5726e-02, -1.8005e-02,\n",
      "        -3.2831e-02,  2.1028e-02,  2.5572e-02,  2.1870e-02, -3.1423e-02,\n",
      "         2.7510e-02, -2.9770e-02, -2.3371e-02, -2.8041e-02, -2.8178e-02,\n",
      "         1.6351e-02,  2.7531e-02, -1.0406e-02, -2.3839e-02,  1.1150e-02,\n",
      "        -1.0778e-02, -1.9531e-02,  3.0111e-02, -7.6504e-03, -2.7686e-02,\n",
      "         3.3940e-02,  1.7047e-02,  2.1599e-02, -4.4098e-03,  4.5350e-03,\n",
      "         1.9598e-03,  7.0261e-03, -1.6011e-02, -1.8466e-02, -3.0313e-02,\n",
      "         9.6497e-03,  1.1995e-02,  1.0146e-02,  1.6146e-03, -5.2178e-03,\n",
      "         7.4721e-03, -1.0213e-02,  2.3463e-02, -1.7810e-02,  9.7536e-03,\n",
      "        -5.5775e-03, -5.5834e-03,  1.5511e-02, -2.5529e-02, -3.5511e-02,\n",
      "        -2.0752e-02,  2.3936e-02, -3.1244e-02,  2.4229e-02, -2.1033e-03,\n",
      "        -3.2956e-02, -3.1790e-02,  2.6614e-03, -1.8905e-02,  1.1536e-02,\n",
      "        -1.9937e-02, -1.7007e-02,  3.1305e-02, -3.4958e-02,  2.5317e-02,\n",
      "         2.8140e-02, -9.8194e-03,  4.0269e-03,  2.9930e-02,  2.5480e-02,\n",
      "         2.3402e-02,  1.4562e-02,  3.4460e-02, -1.8043e-02,  2.9036e-02,\n",
      "        -6.0854e-03,  2.7275e-02, -2.0476e-02, -3.0957e-02, -6.1693e-03,\n",
      "        -3.0396e-02, -2.0038e-02, -6.2681e-03, -1.8028e-02, -1.0772e-02,\n",
      "        -1.6760e-03,  2.1978e-02, -1.7493e-02,  3.0515e-02, -3.0817e-02,\n",
      "         3.5350e-02, -1.9008e-02,  2.2082e-02,  1.6365e-02, -1.2437e-02,\n",
      "         1.6907e-02, -3.2925e-02, -9.3580e-03,  1.1039e-02, -1.4413e-02,\n",
      "         2.8205e-02,  2.8221e-02, -1.2233e-02, -2.6452e-02, -8.9127e-03,\n",
      "        -1.7131e-02,  1.3885e-02,  7.1573e-03,  7.9418e-03,  3.3210e-02,\n",
      "        -2.4943e-02,  2.3545e-02, -2.3250e-02, -2.8167e-02,  5.6405e-03,\n",
      "        -2.1449e-02, -2.4206e-02,  2.0110e-02, -1.4326e-02, -1.3084e-02,\n",
      "         2.0054e-02,  9.7789e-03, -2.3327e-03, -7.9677e-04,  3.2454e-02,\n",
      "         3.3016e-02,  1.8414e-02,  5.8186e-03,  3.5777e-03, -6.3720e-04,\n",
      "         1.2424e-02, -1.5069e-02, -1.6190e-02,  2.2636e-02,  1.3662e-03,\n",
      "        -4.1430e-03,  5.3614e-03, -1.7661e-02, -7.5553e-03, -3.1471e-03,\n",
      "        -6.6243e-03,  1.8203e-02, -1.9994e-02, -2.8210e-02,  1.8667e-03,\n",
      "        -2.6413e-02,  1.1681e-03,  2.3330e-02, -3.0565e-03,  1.6059e-02,\n",
      "        -1.7139e-02, -4.6478e-03,  2.6219e-02,  1.3048e-02,  3.3167e-02,\n",
      "         1.1909e-02,  2.6178e-02, -3.3998e-02,  1.7015e-02, -7.2643e-03,\n",
      "        -2.6738e-02, -2.7789e-03,  2.1402e-02, -8.7198e-03, -2.7341e-02,\n",
      "         2.6677e-02, -3.1293e-02, -1.3661e-02, -2.5358e-02,  1.8136e-02,\n",
      "        -4.3018e-03, -2.9759e-02,  3.1990e-02,  1.2210e-02,  2.7395e-02,\n",
      "        -6.5858e-03, -6.5325e-04, -2.4755e-02, -2.1090e-02,  3.0858e-03,\n",
      "         2.8735e-02,  1.9665e-02, -3.1061e-02,  3.0818e-02,  2.6063e-02,\n",
      "        -1.4248e-02,  1.5798e-02,  2.7543e-02, -2.4005e-02, -2.2923e-02,\n",
      "         2.4617e-02, -1.2902e-02,  3.4032e-02,  6.9586e-03,  2.5403e-02,\n",
      "         1.6015e-02,  2.4237e-02,  3.4648e-02, -1.2821e-02,  4.0148e-03,\n",
      "        -2.7981e-02,  3.2829e-03,  1.6597e-02, -1.5051e-02,  5.3691e-03,\n",
      "        -3.2789e-02,  2.4486e-02, -1.9515e-02, -9.6632e-03,  3.1681e-02,\n",
      "        -2.2921e-02, -2.9419e-02,  7.6677e-04,  4.2244e-03,  2.1060e-02,\n",
      "         3.5639e-02,  3.4633e-03, -3.0681e-02, -3.2824e-02, -8.4008e-03,\n",
      "        -2.0973e-02,  3.2491e-03,  1.3904e-02, -2.8170e-02, -6.4184e-03,\n",
      "        -6.8419e-03, -3.1314e-02,  1.1475e-02,  2.1616e-02,  1.4026e-02,\n",
      "        -1.8465e-02,  7.4579e-03, -1.2160e-02, -2.4776e-02, -1.1687e-03,\n",
      "         9.6788e-03,  1.8311e-03,  3.3876e-03,  2.8930e-02,  1.5212e-02,\n",
      "         2.1478e-02, -2.9057e-03,  4.7449e-04,  2.2904e-02,  2.6990e-02,\n",
      "         1.4965e-02, -2.9086e-02,  9.5343e-03,  3.0637e-02, -5.6698e-03,\n",
      "        -2.7339e-02,  3.4750e-02,  8.4015e-03,  3.0115e-04,  2.4939e-02,\n",
      "        -1.8382e-03,  2.5387e-02, -1.7427e-03,  2.4671e-02, -1.1195e-02,\n",
      "         3.3176e-02, -3.3991e-02,  2.0245e-02,  2.1529e-02,  1.2262e-02,\n",
      "         9.1301e-03,  3.1235e-02, -2.6620e-04,  2.9809e-02,  1.6439e-02,\n",
      "         2.1059e-02, -5.3717e-03, -1.0921e-02,  2.0343e-02,  2.8846e-02,\n",
      "         4.0896e-03, -1.5019e-03, -3.3600e-02,  1.2138e-02, -1.4592e-02,\n",
      "         1.6363e-02, -5.5488e-03, -3.5575e-02,  2.7840e-02,  9.4745e-03,\n",
      "        -1.1114e-02, -2.1665e-02,  2.7062e-02,  1.3289e-02, -2.0104e-02,\n",
      "         2.1595e-02,  5.5087e-03, -1.9808e-02, -5.0237e-03,  2.9368e-02,\n",
      "        -1.0905e-02, -1.6260e-02,  1.8077e-02,  8.5317e-03,  3.2005e-03,\n",
      "         1.8049e-02,  2.7748e-02,  2.6622e-02, -3.1867e-02, -3.6571e-03,\n",
      "        -2.7945e-03, -2.4123e-02,  2.1447e-02, -7.8989e-03, -1.0451e-03,\n",
      "         3.0063e-02,  1.0806e-02,  9.5993e-03, -1.5803e-02, -2.7407e-02,\n",
      "        -2.4528e-02,  1.3689e-02, -5.9232e-03,  1.1573e-02, -1.0791e-02,\n",
      "        -1.4719e-02, -2.9498e-02, -3.5295e-02, -8.0831e-03, -2.3655e-03,\n",
      "        -1.3536e-02,  7.3010e-03, -1.7230e-02, -1.5420e-02, -3.3745e-02,\n",
      "         3.2170e-02,  3.1330e-02, -7.8361e-03, -8.1617e-03,  2.3792e-02,\n",
      "         1.3126e-02, -1.3084e-03,  1.9585e-02,  2.8586e-02,  3.0444e-02,\n",
      "        -7.3012e-03, -1.7339e-02, -3.1553e-02, -1.1582e-02,  1.1481e-02,\n",
      "         3.2968e-02, -1.3990e-02,  2.2415e-02, -3.2574e-02, -1.8180e-02,\n",
      "        -3.0279e-02, -1.9597e-02, -2.4161e-02, -8.2114e-03, -3.1178e-02,\n",
      "         2.4672e-02,  2.0697e-02, -3.3717e-02,  1.5938e-03, -1.9311e-02,\n",
      "        -9.7788e-03,  6.9774e-03,  2.2533e-02, -1.3923e-02,  3.2490e-02,\n",
      "         2.2028e-02,  1.2573e-02,  2.6868e-02,  1.1390e-02, -2.4419e-02,\n",
      "        -1.3505e-02, -2.2899e-02,  1.4762e-02,  3.2223e-02, -1.0104e-02,\n",
      "        -3.0981e-02,  8.9624e-03,  4.2737e-03, -2.5528e-02, -3.2372e-04,\n",
      "         1.6986e-02,  1.7704e-02,  7.8263e-03,  3.0584e-02,  1.6400e-02,\n",
      "         2.2058e-02,  3.4622e-03, -1.4032e-02,  2.4659e-02,  7.7431e-03,\n",
      "         1.3760e-02, -1.9691e-02, -2.0993e-02, -2.8619e-02,  2.2846e-02,\n",
      "        -5.0854e-03, -4.6190e-03,  1.9321e-02,  7.6466e-04,  2.8294e-02,\n",
      "         1.8460e-02,  6.3055e-03,  3.1800e-02, -2.0786e-02,  2.6770e-03,\n",
      "         1.9889e-02, -1.2602e-02, -6.5577e-03, -1.2496e-02,  1.6975e-02,\n",
      "        -2.3618e-02, -2.7939e-02, -2.9961e-02, -2.5194e-03,  2.3946e-02,\n",
      "         2.8731e-02, -8.6832e-03,  1.6823e-02, -1.3836e-02, -1.5530e-02,\n",
      "         7.2883e-03, -2.3926e-02,  2.2367e-02, -1.9276e-02, -6.8388e-04,\n",
      "        -3.5774e-03, -2.4591e-02, -9.9031e-03, -2.7096e-02,  3.3964e-02,\n",
      "         1.7125e-03,  3.5415e-02,  6.4547e-03,  2.9939e-02,  1.4828e-02,\n",
      "        -3.0358e-02,  2.1841e-02, -2.6565e-04,  2.5135e-02, -2.4329e-02,\n",
      "         1.2994e-02,  4.3261e-03, -4.9665e-03, -9.3172e-03, -1.6960e-02,\n",
      "        -2.2098e-02, -2.5004e-02, -1.7713e-02,  6.2567e-03,  2.1767e-02,\n",
      "        -2.7183e-03, -2.7190e-02, -6.3696e-03, -3.5409e-02,  1.7225e-02,\n",
      "         2.9400e-02,  2.0514e-02, -3.3786e-02,  2.8379e-02, -1.2631e-02,\n",
      "         2.6140e-02, -3.4461e-02, -9.6533e-03, -1.7831e-02, -1.1998e-02,\n",
      "        -2.0801e-02, -2.3125e-02,  1.2619e-02, -8.6674e-03, -5.7774e-03,\n",
      "        -1.0604e-02,  2.8054e-02, -2.6468e-02,  2.7717e-02,  1.8335e-02,\n",
      "        -1.3348e-02,  7.4226e-03,  1.0570e-02, -3.5432e-02, -1.8515e-02,\n",
      "         2.2088e-03, -3.4014e-02,  4.0415e-03,  1.6722e-02, -1.2952e-02,\n",
      "         3.0720e-02,  9.4392e-03, -3.3527e-02,  1.3464e-02,  1.2328e-02,\n",
      "        -2.9987e-02,  1.3983e-03, -2.3350e-02,  6.6772e-04,  1.2908e-02,\n",
      "         3.5277e-02,  3.3360e-03, -1.6423e-02,  3.3047e-02,  9.9569e-03,\n",
      "         2.5862e-02,  2.8777e-02,  1.3134e-02, -1.8577e-02, -2.2574e-02,\n",
      "        -8.4847e-05, -3.0876e-02,  3.1162e-02, -1.8774e-02, -1.8415e-02,\n",
      "         1.8779e-02, -3.1809e-02,  3.3059e-02, -1.2908e-02, -8.8452e-03,\n",
      "         1.2835e-02,  2.5560e-02,  2.0018e-02, -3.6116e-03, -2.7351e-02,\n",
      "         1.6422e-02, -3.4351e-02, -3.3590e-02,  2.5243e-03, -1.2100e-02,\n",
      "         2.8007e-02,  4.8296e-03,  2.6094e-02,  1.5887e-02, -1.1558e-02,\n",
      "        -2.2381e-02, -9.5399e-03,  2.0332e-02, -1.6261e-02, -9.8620e-03,\n",
      "        -3.0509e-02, -8.9806e-04,  2.7743e-02,  3.1303e-02, -2.6419e-02,\n",
      "         7.0712e-03,  1.4024e-02,  9.1518e-03,  2.7531e-02,  1.4714e-02,\n",
      "         4.6599e-03,  2.4652e-02, -2.2092e-02,  1.1723e-02, -3.2852e-02,\n",
      "        -3.0213e-02, -1.7736e-02,  3.3639e-02, -9.3531e-03, -3.3476e-02,\n",
      "        -2.6660e-02, -1.4818e-02, -3.2167e-02,  2.4413e-02, -2.0702e-02,\n",
      "         2.5976e-02, -9.7279e-03,  2.6949e-02, -2.8255e-02,  1.6277e-02,\n",
      "        -1.0712e-02, -1.1742e-02,  5.3227e-03, -6.1522e-03,  7.7964e-03,\n",
      "        -2.5614e-02,  1.6153e-02, -3.0224e-02, -5.2130e-03, -1.4990e-02,\n",
      "         4.3574e-03, -1.3024e-02,  3.4866e-02,  2.6263e-02,  1.9811e-02,\n",
      "        -2.8092e-02, -5.9900e-03,  3.4051e-02, -1.5924e-02, -1.6483e-02,\n",
      "         2.6844e-02,  4.2453e-03, -3.3468e-02,  2.2165e-02,  3.5444e-02,\n",
      "         3.4690e-02, -3.4234e-02, -2.5836e-02, -6.3270e-03,  2.5736e-02,\n",
      "        -3.3650e-02, -2.5811e-02,  1.2927e-02, -3.5702e-03,  2.8889e-02,\n",
      "         3.0715e-02, -8.9091e-03,  4.7867e-03,  3.3708e-02, -2.8925e-02,\n",
      "        -2.1389e-03,  8.7083e-03, -3.2602e-02, -7.9861e-03, -1.3542e-03,\n",
      "        -2.6144e-02,  5.0360e-04, -1.9437e-02,  4.4153e-03, -1.5432e-02,\n",
      "        -3.5034e-03,  2.8849e-02, -3.4980e-02, -2.9344e-02, -2.3696e-02,\n",
      "         2.3459e-02, -1.6562e-02,  3.0717e-02, -1.3070e-02,  1.6820e-02,\n",
      "        -1.4403e-02, -2.7459e-02, -3.1241e-02, -4.7714e-03,  1.5520e-02,\n",
      "         1.8559e-02, -1.4464e-02, -1.6433e-03,  5.2014e-03, -2.4374e-02,\n",
      "         3.0063e-02,  5.6240e-03, -3.4525e-02,  1.0761e-02,  2.8628e-02,\n",
      "         2.3664e-02,  8.8918e-03,  8.7186e-03, -2.4491e-03,  2.1919e-02,\n",
      "         3.0349e-02, -1.1482e-02, -2.8064e-02,  2.7967e-02,  2.4785e-02,\n",
      "         1.3532e-02, -2.8116e-02, -3.4809e-02, -1.7447e-02, -3.2631e-02,\n",
      "         1.7557e-02, -3.0971e-02,  3.3812e-02, -8.6108e-03,  7.3645e-03,\n",
      "         2.8736e-02,  2.8239e-02,  3.1019e-02, -1.3394e-02, -8.0520e-03,\n",
      "        -1.8390e-02,  2.6530e-02,  3.1175e-02,  1.8490e-02,  1.3745e-02,\n",
      "         1.8191e-02,  2.7471e-02,  1.6227e-02, -2.4980e-03, -2.2203e-02,\n",
      "         2.6583e-02, -6.3611e-03,  6.3856e-03, -1.7436e-02,  2.9551e-02,\n",
      "        -3.4262e-03, -3.4699e-02,  2.0582e-02,  3.4132e-02, -2.6700e-02,\n",
      "        -3.2861e-02,  1.6874e-02,  2.3327e-02, -2.3093e-02, -1.6250e-03,\n",
      "         1.8936e-02, -8.6333e-03,  1.8977e-02,  1.9619e-02, -1.8378e-02,\n",
      "         1.0379e-02, -1.1860e-02, -2.7442e-02,  1.8131e-02, -2.9534e-02,\n",
      "        -1.8586e-02, -8.6356e-03,  2.4887e-02,  9.3246e-03,  3.5705e-04,\n",
      "        -2.8683e-02,  2.6306e-02,  2.3734e-02,  2.7474e-02, -3.1182e-03,\n",
      "        -1.6867e-02, -1.8496e-03, -1.0240e-02,  2.8203e-02, -2.0407e-02,\n",
      "        -1.1343e-02, -2.9027e-02,  1.0573e-02,  2.6098e-03,  1.1451e-02,\n",
      "        -1.0579e-02, -2.2437e-02,  1.6081e-03, -2.3351e-02],\n",
      "       grad_fn=<SelectBackward0>)\n",
      "tensor(0.0205, grad_fn=<SelectBackward0>)\n"
     ]
    }
   ],
   "source": [
    "print(model.hidden.weight[0])\n",
    "print(model.hidden.bias[0])"
   ]
  },
  {
   "cell_type": "markdown",
   "metadata": {},
   "source": [
    "For custom initialization, we want to modify these tensors in place. These are actually autograd *Variables*, so we need to get back the actual tensors with `model.fc1.weight.data`. Once we have the tensors, we can fill them with zeros (for biases) or random normal values."
   ]
  },
  {
   "cell_type": "code",
   "execution_count": 74,
   "metadata": {
    "collapsed": true
   },
   "outputs": [
    {
     "data": {
      "text/plain": [
       "tensor([0., 0., 0., 0., 0., 0., 0., 0., 0., 0., 0., 0., 0., 0., 0., 0., 0., 0., 0., 0., 0., 0., 0., 0.,\n",
       "        0., 0., 0., 0., 0., 0., 0., 0., 0., 0., 0., 0., 0., 0., 0., 0., 0., 0., 0., 0., 0., 0., 0., 0.,\n",
       "        0., 0., 0., 0., 0., 0., 0., 0., 0., 0., 0., 0., 0., 0., 0., 0., 0., 0., 0., 0., 0., 0., 0., 0.,\n",
       "        0., 0., 0., 0., 0., 0., 0., 0., 0., 0., 0., 0., 0., 0., 0., 0., 0., 0., 0., 0., 0., 0., 0., 0.,\n",
       "        0., 0., 0., 0., 0., 0., 0., 0., 0., 0., 0., 0., 0., 0., 0., 0., 0., 0., 0., 0., 0., 0., 0., 0.,\n",
       "        0., 0., 0., 0., 0., 0., 0., 0., 0., 0., 0., 0., 0., 0., 0., 0., 0., 0., 0., 0., 0., 0., 0., 0.,\n",
       "        0., 0., 0., 0., 0., 0., 0., 0., 0., 0., 0., 0., 0., 0., 0., 0., 0., 0., 0., 0., 0., 0., 0., 0.,\n",
       "        0., 0., 0., 0., 0., 0., 0., 0., 0., 0., 0., 0., 0., 0., 0., 0., 0., 0., 0., 0., 0., 0., 0., 0.,\n",
       "        0., 0., 0., 0., 0., 0., 0., 0., 0., 0., 0., 0., 0., 0., 0., 0., 0., 0., 0., 0., 0., 0., 0., 0.,\n",
       "        0., 0., 0., 0., 0., 0., 0., 0., 0., 0., 0., 0., 0., 0., 0., 0., 0., 0., 0., 0., 0., 0., 0., 0.,\n",
       "        0., 0., 0., 0., 0., 0., 0., 0., 0., 0., 0., 0., 0., 0., 0., 0.])"
      ]
     },
     "execution_count": 74,
     "metadata": {},
     "output_type": "execute_result"
    }
   ],
   "source": [
    "# Set biases to all zeros\n",
    "model.hidden.bias.data.fill_(0)"
   ]
  },
  {
   "cell_type": "code",
   "execution_count": 75,
   "metadata": {
    "collapsed": true
   },
   "outputs": [
    {
     "data": {
      "text/plain": [
       "tensor([[-3.3088e-03,  1.4615e-02, -1.3682e-03,  ..., -3.9149e-04,\n",
       "          1.5936e-02, -2.4449e-02],\n",
       "        [-7.8898e-03,  1.3342e-02,  1.3219e-02,  ...,  1.8657e-02,\n",
       "         -1.1514e-02, -9.7871e-03],\n",
       "        [-4.3820e-03, -1.3306e-03, -1.6865e-02,  ...,  1.1092e-02,\n",
       "          4.3098e-03, -9.2323e-03],\n",
       "        ...,\n",
       "        [ 9.5540e-03,  5.9843e-03, -2.8426e-03,  ..., -1.0362e-03,\n",
       "          9.0234e-03,  1.0266e-02],\n",
       "        [-1.5114e-02,  2.6363e-05, -2.3414e-02,  ...,  4.6268e-03,\n",
       "         -6.3623e-04, -7.7575e-03],\n",
       "        [-7.9420e-04,  1.8237e-03,  8.7197e-03,  ...,  1.8764e-02,\n",
       "          9.2356e-03,  5.4816e-04]])"
      ]
     },
     "execution_count": 75,
     "metadata": {},
     "output_type": "execute_result"
    }
   ],
   "source": [
    "# sample from random normal with standard dev = 0.01 # 標準偏差が0.01の正規分布\n",
    "model.hidden.weight.data.normal_(std=0.01)"
   ]
  },
  {
   "cell_type": "markdown",
   "metadata": {},
   "source": [
    "### Forward pass\n",
    "\n",
    "Now that we have a network, let's see what happens when we pass in an image."
   ]
  },
  {
   "cell_type": "code",
   "execution_count": 82,
   "metadata": {
    "collapsed": true
   },
   "outputs": [
    {
     "name": "stdout",
     "output_type": "stream",
     "text": [
      "tensor([[-1.0000, -1.0000, -1.0000, -1.0000, -1.0000, -1.0000, -1.0000, -1.0000,\n",
      "         -1.0000, -1.0000, -1.0000, -1.0000, -1.0000, -1.0000, -1.0000, -1.0000,\n",
      "         -1.0000, -1.0000, -1.0000, -1.0000, -1.0000, -1.0000, -1.0000, -1.0000,\n",
      "         -1.0000, -1.0000, -1.0000, -1.0000, -1.0000, -1.0000, -1.0000, -1.0000,\n",
      "         -1.0000, -1.0000, -1.0000, -1.0000, -1.0000, -1.0000, -1.0000, -1.0000,\n",
      "         -1.0000, -1.0000, -1.0000, -1.0000, -1.0000, -1.0000, -1.0000, -1.0000,\n",
      "         -1.0000, -1.0000, -1.0000, -1.0000, -1.0000, -1.0000, -1.0000, -1.0000,\n",
      "         -1.0000, -1.0000, -1.0000, -1.0000, -1.0000, -1.0000, -1.0000, -1.0000,\n",
      "         -1.0000, -1.0000, -1.0000, -1.0000, -1.0000, -1.0000, -1.0000, -1.0000,\n",
      "         -1.0000, -1.0000, -1.0000, -1.0000, -1.0000, -1.0000, -1.0000, -1.0000,\n",
      "         -1.0000, -1.0000, -1.0000, -1.0000, -1.0000, -1.0000, -1.0000, -1.0000,\n",
      "         -1.0000, -1.0000, -1.0000, -1.0000, -1.0000, -1.0000, -1.0000, -1.0000,\n",
      "         -1.0000, -1.0000, -1.0000, -1.0000, -1.0000, -1.0000, -1.0000, -1.0000,\n",
      "         -1.0000, -1.0000, -1.0000, -1.0000, -1.0000, -1.0000, -1.0000, -1.0000,\n",
      "         -1.0000, -1.0000, -1.0000, -1.0000, -1.0000, -1.0000, -1.0000, -1.0000,\n",
      "         -1.0000, -1.0000, -1.0000, -1.0000, -1.0000, -1.0000, -1.0000, -1.0000,\n",
      "         -1.0000, -1.0000, -1.0000, -1.0000, -1.0000, -1.0000, -1.0000, -1.0000,\n",
      "         -1.0000, -1.0000, -1.0000, -1.0000, -1.0000, -1.0000, -1.0000, -1.0000,\n",
      "         -1.0000, -1.0000, -1.0000, -1.0000, -1.0000, -1.0000, -1.0000, -1.0000,\n",
      "         -1.0000, -0.4353,  0.3490, -0.9765, -1.0000, -1.0000, -1.0000, -1.0000,\n",
      "         -1.0000, -1.0000, -1.0000, -1.0000, -1.0000, -1.0000, -1.0000, -1.0000,\n",
      "         -1.0000, -1.0000, -1.0000, -1.0000, -1.0000, -1.0000, -1.0000, -1.0000,\n",
      "         -1.0000, -1.0000, -1.0000, -1.0000, -0.9608,  0.8275,  0.9922, -0.6235,\n",
      "         -1.0000, -1.0000, -1.0000, -1.0000, -1.0000, -1.0000, -1.0000, -1.0000,\n",
      "         -1.0000, -1.0000, -1.0000, -1.0000, -1.0000, -1.0000, -1.0000, -1.0000,\n",
      "         -1.0000, -1.0000, -1.0000, -1.0000, -1.0000, -1.0000, -1.0000, -1.0000,\n",
      "         -0.3804,  0.9922,  0.8824, -0.9686, -1.0000, -1.0000, -1.0000, -0.7882,\n",
      "          0.6549, -0.3882, -1.0000, -1.0000, -1.0000, -1.0000, -1.0000, -1.0000,\n",
      "         -1.0000, -1.0000, -1.0000, -1.0000, -1.0000, -1.0000, -1.0000, -1.0000,\n",
      "         -1.0000, -1.0000, -1.0000, -0.3647,  0.9137,  0.9922, -0.3804, -1.0000,\n",
      "         -1.0000, -1.0000, -0.7961,  0.6471,  0.9922, -0.7176, -1.0000, -1.0000,\n",
      "         -1.0000, -1.0000, -1.0000, -1.0000, -1.0000, -1.0000, -1.0000, -1.0000,\n",
      "         -1.0000, -1.0000, -1.0000, -1.0000, -1.0000, -1.0000, -1.0000, -0.0196,\n",
      "          0.9922,  0.9529, -0.6392, -1.0000, -1.0000, -1.0000, -0.8824,  0.8353,\n",
      "          0.9922,  0.0275, -1.0000, -1.0000, -1.0000, -1.0000, -1.0000, -1.0000,\n",
      "         -1.0000, -1.0000, -1.0000, -1.0000, -1.0000, -1.0000, -1.0000, -1.0000,\n",
      "         -1.0000, -1.0000, -0.6784,  0.7882,  0.9922,  0.5843, -1.0000, -1.0000,\n",
      "         -1.0000, -0.9294,  0.3412,  1.0000,  0.9922, -0.4667, -1.0000, -1.0000,\n",
      "         -1.0000, -1.0000, -1.0000, -1.0000, -1.0000, -1.0000, -1.0000, -1.0000,\n",
      "         -1.0000, -1.0000, -1.0000, -1.0000, -1.0000, -1.0000,  0.3255,  0.9922,\n",
      "          0.9922, -0.1765, -1.0000, -1.0000, -1.0000, -0.7490,  0.9922,  0.9922,\n",
      "          0.6941, -0.8510, -1.0000, -1.0000, -1.0000, -1.0000, -1.0000, -1.0000,\n",
      "         -1.0000, -1.0000, -1.0000, -1.0000, -1.0000, -1.0000, -1.0000, -1.0000,\n",
      "         -1.0000, -0.8588,  0.8196,  0.9922,  0.9529, -1.0000, -1.0000, -1.0000,\n",
      "         -1.0000, -0.7490,  0.9922,  0.9922, -0.3490, -1.0000, -1.0000, -1.0000,\n",
      "         -1.0000, -1.0000, -1.0000, -1.0000, -1.0000, -1.0000, -1.0000, -1.0000,\n",
      "         -1.0000, -1.0000, -1.0000, -1.0000, -1.0000, -0.0667,  0.9922,  0.9922,\n",
      "         -0.0824, -1.0000, -1.0000, -1.0000, -1.0000, -0.0431,  0.9922,  0.9922,\n",
      "         -0.3647, -1.0000, -1.0000, -1.0000, -1.0000, -1.0000, -1.0000, -1.0000,\n",
      "         -1.0000, -1.0000, -1.0000, -1.0000, -1.0000, -1.0000, -1.0000, -1.0000,\n",
      "         -0.8667,  0.7647,  0.9922,  0.6941, -0.8745, -1.0000, -1.0000, -1.0000,\n",
      "         -0.5686,  0.9529,  0.9922,  0.6627, -1.0000, -1.0000, -1.0000, -1.0000,\n",
      "         -1.0000, -1.0000, -1.0000, -1.0000, -1.0000, -1.0000, -1.0000, -1.0000,\n",
      "         -1.0000, -1.0000, -1.0000, -1.0000,  0.1765,  0.9922,  0.9922, -0.1451,\n",
      "         -1.0000, -1.0000, -1.0000, -1.0000, -0.3020,  0.9922,  0.9922, -0.3020,\n",
      "         -1.0000, -1.0000, -1.0000, -1.0000, -1.0000, -1.0000, -1.0000, -1.0000,\n",
      "         -1.0000, -1.0000, -1.0000, -1.0000, -1.0000, -1.0000, -0.9529,  0.2000,\n",
      "          0.9922,  0.9922,  0.4039, -0.9843, -1.0000, -1.0000, -1.0000, -1.0000,\n",
      "         -0.3020,  0.9922,  0.9922, -0.7961, -1.0000, -1.0000, -1.0000, -1.0000,\n",
      "         -1.0000, -1.0000, -1.0000, -1.0000, -1.0000, -1.0000, -1.0000, -1.0000,\n",
      "         -1.0000, -1.0000, -0.4275,  0.9922,  0.9922,  0.9922,  0.3804, -0.7569,\n",
      "         -1.0000, -0.5686, -0.3020, -0.7020, -0.3020,  0.9922,  0.9922, -0.7961,\n",
      "         -1.0000, -1.0000, -1.0000, -1.0000, -1.0000, -1.0000, -1.0000, -1.0000,\n",
      "         -1.0000, -1.0000, -1.0000, -1.0000, -1.0000, -1.0000,  0.1059,  0.9922,\n",
      "          0.9922,  0.9922,  0.9922,  0.9216,  0.8824,  0.9529,  0.9922,  0.9294,\n",
      "          0.9216,  0.9922,  0.9922, -0.7961, -1.0000, -1.0000, -1.0000, -1.0000,\n",
      "         -1.0000, -1.0000, -1.0000, -1.0000, -1.0000, -1.0000, -1.0000, -1.0000,\n",
      "         -1.0000, -1.0000, -0.5686,  0.3804,  0.3804,  0.3804,  0.6706,  0.9922,\n",
      "          0.9922,  0.6157,  0.8745,  0.9922,  0.9922,  0.9922,  0.8039, -0.8588,\n",
      "         -1.0000, -1.0000, -1.0000, -1.0000, -1.0000, -1.0000, -1.0000, -1.0000,\n",
      "         -1.0000, -1.0000, -1.0000, -1.0000, -1.0000, -1.0000, -1.0000, -1.0000,\n",
      "         -1.0000, -1.0000, -0.9059, -0.7961, -0.7961, -0.9216, -0.8353, -0.6627,\n",
      "          0.7569,  0.9922, -0.0118, -1.0000, -1.0000, -1.0000, -1.0000, -1.0000,\n",
      "         -1.0000, -1.0000, -1.0000, -1.0000, -1.0000, -1.0000, -1.0000, -1.0000,\n",
      "         -1.0000, -1.0000, -1.0000, -1.0000, -1.0000, -1.0000, -1.0000, -1.0000,\n",
      "         -1.0000, -1.0000, -1.0000, -1.0000,  0.5137,  0.9294, -0.5843, -1.0000,\n",
      "         -1.0000, -1.0000, -1.0000, -1.0000, -1.0000, -1.0000, -1.0000, -1.0000,\n",
      "         -1.0000, -1.0000, -1.0000, -1.0000, -1.0000, -1.0000, -1.0000, -1.0000,\n",
      "         -1.0000, -1.0000, -1.0000, -1.0000, -1.0000, -1.0000, -1.0000, -1.0000,\n",
      "          0.5137,  0.7490, -1.0000, -1.0000, -1.0000, -1.0000, -1.0000, -1.0000,\n",
      "         -1.0000, -1.0000, -1.0000, -1.0000, -1.0000, -1.0000, -1.0000, -1.0000,\n",
      "         -1.0000, -1.0000, -1.0000, -1.0000, -1.0000, -1.0000, -1.0000, -1.0000,\n",
      "         -1.0000, -1.0000, -1.0000, -1.0000,  0.5137,  0.5686, -1.0000, -1.0000,\n",
      "         -1.0000, -1.0000, -1.0000, -1.0000, -1.0000, -1.0000, -1.0000, -1.0000,\n",
      "         -1.0000, -1.0000, -1.0000, -1.0000, -1.0000, -1.0000, -1.0000, -1.0000,\n",
      "         -1.0000, -1.0000, -1.0000, -1.0000, -1.0000, -1.0000, -1.0000, -1.0000,\n",
      "          0.1765, -0.3961, -1.0000, -1.0000, -1.0000, -1.0000, -1.0000, -1.0000,\n",
      "         -1.0000, -1.0000, -1.0000, -1.0000, -1.0000, -1.0000, -1.0000, -1.0000,\n",
      "         -1.0000, -1.0000, -1.0000, -1.0000, -1.0000, -1.0000, -1.0000, -1.0000,\n",
      "         -1.0000, -1.0000, -1.0000, -1.0000, -1.0000, -1.0000, -1.0000, -1.0000,\n",
      "         -1.0000, -1.0000, -1.0000, -1.0000, -1.0000, -1.0000, -1.0000, -1.0000,\n",
      "         -1.0000, -1.0000, -1.0000, -1.0000, -1.0000, -1.0000, -1.0000, -1.0000,\n",
      "         -1.0000, -1.0000, -1.0000, -1.0000, -1.0000, -1.0000, -1.0000, -1.0000,\n",
      "         -1.0000, -1.0000, -1.0000, -1.0000, -1.0000, -1.0000, -1.0000, -1.0000,\n",
      "         -1.0000, -1.0000, -1.0000, -1.0000, -1.0000, -1.0000, -1.0000, -1.0000,\n",
      "         -1.0000, -1.0000, -1.0000, -1.0000, -1.0000, -1.0000, -1.0000, -1.0000,\n",
      "         -1.0000, -1.0000, -1.0000, -1.0000, -1.0000, -1.0000, -1.0000, -1.0000,\n",
      "         -1.0000, -1.0000, -1.0000, -1.0000, -1.0000, -1.0000, -1.0000, -1.0000]])\n"
     ]
    },
    {
     "data": {
      "image/png": "[encoded data removed]",
      "text/plain": [
       "<Figure size 600x900 with 2 Axes>"
      ]
     },
     "metadata": {
      "image/png": {
       "height": 327,
       "width": 589
      }
     },
     "output_type": "display_data"
    }
   ],
   "source": [
    "# Grab some data \n",
    "dataiter = iter(trainloader)\n",
    "images, labels = next(dataiter)\n",
    "\n",
    "# Resize images into a 1D vector, new shape is (batch size, color channels, image pixels) \n",
    "images.resize_(64, 1, 784)\n",
    "# or images.resize_(images.shape[0], 1, 784) to automatically get batch size\n",
    "\n",
    "# Forward pass through the network\n",
    "img_idx = 0\n",
    "print(images[img_idx,:]) # 64個のうち、0個目\n",
    "ps = model.forward(images[img_idx,:])\n",
    "\n",
    "img = images[img_idx]\n",
    "helper.view_classify(img.view(1, 28, 28), ps)"
   ]
  },
  {
   "cell_type": "markdown",
   "metadata": {},
   "source": [
    "As you can see above, our network has basically no idea what this digit is. It's because we haven't trained it yet, all the weights are random!\n",
    "\n",
    "### Using `nn.Sequential`\n",
    "\n",
    "PyTorch provides a convenient way to build networks like this where a tensor is passed sequentially through operations, `nn.Sequential` ([documentation](https://pytorch.org/docs/master/nn.html#torch.nn.Sequential)). Using this to build the equivalent network:"
   ]
  },
  {
   "cell_type": "code",
   "execution_count": 83,
   "metadata": {
    "collapsed": true
   },
   "outputs": [
    {
     "name": "stdout",
     "output_type": "stream",
     "text": [
      "Sequential(\n",
      "  (0): Linear(in_features=784, out_features=128, bias=True)\n",
      "  (1): ReLU()\n",
      "  (2): Linear(in_features=128, out_features=64, bias=True)\n",
      "  (3): ReLU()\n",
      "  (4): Linear(in_features=64, out_features=10, bias=True)\n",
      "  (5): Softmax(dim=1)\n",
      ")\n"
     ]
    },
    {
     "data": {
      "image/png": "[encoded data removed]",
      "text/plain": [
       "<Figure size 600x900 with 2 Axes>"
      ]
     },
     "metadata": {
      "image/png": {
       "height": 327,
       "width": 589
      }
     },
     "output_type": "display_data"
    }
   ],
   "source": [
    "# Hyperparameters for our network\n",
    "input_size = 784\n",
    "hidden_sizes = [128, 64]\n",
    "output_size = 10\n",
    "\n",
    "# Build a feed-forward network\n",
    "model = nn.Sequential(nn.Linear(input_size, hidden_sizes[0]),\n",
    "                      nn.ReLU(),\n",
    "                      nn.Linear(hidden_sizes[0], hidden_sizes[1]),\n",
    "                      nn.ReLU(),\n",
    "                      nn.Linear(hidden_sizes[1], output_size),\n",
    "                      nn.Softmax(dim=1))\n",
    "print(model)\n",
    "\n",
    "# Forward pass through the network and display output\n",
    "images, labels = next(iter(trainloader))\n",
    "images.resize_(images.shape[0], 1, 784)\n",
    "ps = model.forward(images[0,:])\n",
    "helper.view_classify(images[0].view(1, 28, 28), ps)"
   ]
  },
  {
   "cell_type": "markdown",
   "metadata": {},
   "source": [
    "Here our model is the same as before: 784 input units, a hidden layer with 128 units, ReLU activation, 64 unit hidden layer, another ReLU, then the output layer with 10 units, and the softmax output.\n",
    "\n",
    "The operations are available by passing in the appropriate index. For example, if you want to get first Linear operation and look at the weights, you'd use `model[0]`."
   ]
  },
  {
   "cell_type": "code",
   "execution_count": 86,
   "metadata": {
    "collapsed": true
   },
   "outputs": [
    {
     "name": "stdout",
     "output_type": "stream",
     "text": [
      "Linear(in_features=128, out_features=64, bias=True)\n"
     ]
    },
    {
     "data": {
      "text/plain": [
       "Parameter containing:\n",
       "tensor([[ 0.0278, -0.0168, -0.0092,  ...,  0.0313,  0.0315, -0.0544],\n",
       "        [ 0.0808, -0.0777, -0.0326,  ..., -0.0362,  0.0496,  0.0272],\n",
       "        [-0.0172,  0.0779,  0.0076,  ...,  0.0672, -0.0236,  0.0845],\n",
       "        ...,\n",
       "        [ 0.0756,  0.0712,  0.0237,  ...,  0.0680,  0.0582,  0.0256],\n",
       "        [-0.0369, -0.0354, -0.0274,  ...,  0.0181, -0.0591,  0.0456],\n",
       "        [ 0.0146, -0.0213, -0.0409,  ..., -0.0345,  0.0621,  0.0658]],\n",
       "       requires_grad=True)"
      ]
     },
     "execution_count": 86,
     "metadata": {},
     "output_type": "execute_result"
    }
   ],
   "source": [
    "print(model[2])\n",
    "model[2].weight"
   ]
  },
  {
   "cell_type": "markdown",
   "metadata": {},
   "source": [
    "You can also pass in an `OrderedDict` to name the individual layers and operations, instead of using incremental integers. Note that dictionary keys must be unique, so _each operation must have a different name_."
   ]
  },
  {
   "cell_type": "code",
   "execution_count": 88,
   "metadata": {
    "collapsed": true
   },
   "outputs": [
    {
     "data": {
      "text/plain": [
       "Sequential(\n",
       "  (fc1): Linear(in_features=784, out_features=128, bias=True)\n",
       "  (relu1): ReLU()\n",
       "  (fc2): Linear(in_features=128, out_features=64, bias=True)\n",
       "  (relu2): ReLU()\n",
       "  (output): Linear(in_features=64, out_features=10, bias=True)\n",
       "  (softmax): Softmax(dim=1)\n",
       ")"
      ]
     },
     "execution_count": 88,
     "metadata": {},
     "output_type": "execute_result"
    }
   ],
   "source": [
    "from collections import OrderedDict\n",
    "model = nn.Sequential(OrderedDict([\n",
    "                      ('fc1', nn.Linear(input_size, hidden_sizes[0])),\n",
    "                      ('relu1', nn.ReLU()),\n",
    "                      ('fc2', nn.Linear(hidden_sizes[0], hidden_sizes[1])),\n",
    "                      ('relu2', nn.ReLU()),\n",
    "                      ('output', nn.Linear(hidden_sizes[1], output_size)),\n",
    "                      ('softmax', nn.Softmax(dim=1))]))\n",
    "model"
   ]
  },
  {
   "cell_type": "markdown",
   "metadata": {},
   "source": [
    "Now you can access layers either by integer or the name"
   ]
  },
  {
   "cell_type": "code",
   "execution_count": 89,
   "metadata": {
    "collapsed": true
   },
   "outputs": [
    {
     "name": "stdout",
     "output_type": "stream",
     "text": [
      "Linear(in_features=784, out_features=128, bias=True)\n",
      "Linear(in_features=784, out_features=128, bias=True)\n"
     ]
    }
   ],
   "source": [
    "print(model[0])\n",
    "print(model.fc1)"
   ]
  },
  {
   "cell_type": "markdown",
   "metadata": {},
   "source": [
    "In the next notebook, we'll see how we can train a neural network to accuractly predict the numbers appearing in the MNIST images."
   ]
  }
 ],
 "metadata": {
  "kernelspec": {
   "display_name": "Python [default]",
   "language": "python",
   "name": "python3"
  },
  "language_info": {
   "codemirror_mode": {
    "name": "ipython",
    "version": 3
   },
   "file_extension": ".py",
   "mimetype": "text/x-python",
   "name": "python",
   "nbconvert_exporter": "python",
   "pygments_lexer": "ipython3",
   "version": "3.8.16"
  }
 },
 "nbformat": 4,
 "nbformat_minor": 2
}
