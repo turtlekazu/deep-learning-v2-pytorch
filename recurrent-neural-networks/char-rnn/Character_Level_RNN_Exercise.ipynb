{
 "cells": [
  {
   "cell_type": "markdown",
   "metadata": {},
   "source": [
    "# Character-Level LSTM in PyTorch\n",
    "\n",
    "In this notebook, I'll construct a character-level LSTM with PyTorch. The network will train character by character on some text, then generate new text character by character. As an example, I will train on Anna Karenina. **This model will be able to generate new text based on the text from the book!**\n",
    "\n",
    "This network is based off of Andrej Karpathy's [post on RNNs](http://karpathy.github.io/2015/05/21/rnn-effectiveness/) and [implementation in Torch](https://github.com/karpathy/char-rnn). Below is the general architecture of the character-wise RNN.\n",
    "\n",
    "<img src=\"assets/charseq.jpeg\" width=\"500\">"
   ]
  },
  {
   "cell_type": "markdown",
   "metadata": {},
   "source": [
    "First let's load in our required resources for data loading and model creation."
   ]
  },
  {
   "cell_type": "code",
   "execution_count": 1,
   "metadata": {
    "collapsed": true
   },
   "outputs": [],
   "source": [
    "import numpy as np\n",
    "import torch\n",
    "from torch import nn\n",
    "import torch.nn.functional as F"
   ]
  },
  {
   "cell_type": "markdown",
   "metadata": {},
   "source": [
    "## Load in Data\n",
    "\n",
    "Then, we'll load the Anna Karenina text file and convert it into integers for our network to use. "
   ]
  },
  {
   "cell_type": "code",
   "execution_count": 2,
   "metadata": {
    "collapsed": true
   },
   "outputs": [],
   "source": [
    "# open text file and read in data as `text`\n",
    "with open('data/anna.txt', 'r') as f:\n",
    "    text = f.read()"
   ]
  },
  {
   "cell_type": "markdown",
   "metadata": {},
   "source": [
    "Let's check out the first 100 characters, make sure everything is peachy. According to the [American Book Review](http://americanbookreview.org/100bestlines.asp), this is the 6th best first line of a book ever."
   ]
  },
  {
   "cell_type": "code",
   "execution_count": 3,
   "metadata": {
    "collapsed": true
   },
   "outputs": [
    {
     "data": {
      "text/plain": [
       "'Chapter 1\\n\\n\\nHappy families are all alike; every unhappy family is unhappy in its own\\nway.\\n\\nEverythin'"
      ]
     },
     "execution_count": 3,
     "metadata": {},
     "output_type": "execute_result"
    }
   ],
   "source": [
    "text[:100]"
   ]
  },
  {
   "cell_type": "markdown",
   "metadata": {},
   "source": [
    "### Tokenization\n",
    "\n",
    "In the cells, below, I'm creating a couple of **dictionaries** to convert the characters to and from integers. Encoding the characters as integers makes it easier to use as input in the network."
   ]
  },
  {
   "cell_type": "code",
   "execution_count": 6,
   "metadata": {
    "collapsed": true
   },
   "outputs": [
    {
     "name": "stdout",
     "output_type": "stream",
     "text": [
      "{0: '@', 1: 'p', 2: ':', 3: 'N', 4: '2', 5: 'Y', 6: 'z', 7: '*', 8: 'I', 9: 'y', 10: '\"', 11: 'G', 12: '3', 13: '9', 14: 'n', 15: ',', 16: 'd', 17: '-', 18: 'P', 19: 'o', 20: '_', 21: '4', 22: 'r', 23: 'O', 24: 'b', 25: 'D', 26: 'w', 27: 'R', 28: 'Q', 29: 'C', 30: 'v', 31: 'J', 32: \"'\", 33: 'L', 34: 'm', 35: '!', 36: 'W', 37: '/', 38: '\\n', 39: 'F', 40: 'x', 41: 'Z', 42: '`', 43: 'E', 44: '(', 45: 'g', 46: ';', 47: '5', 48: '6', 49: 'T', 50: ' ', 51: 'S', 52: 'a', 53: 'V', 54: 'k', 55: 'X', 56: 'H', 57: '8', 58: '%', 59: '7', 60: 'U', 61: 'f', 62: 'A', 63: 's', 64: 'i', 65: '0', 66: '&', 67: 'u', 68: 'l', 69: 'e', 70: 'M', 71: 'j', 72: '1', 73: ')', 74: 'h', 75: 't', 76: '.', 77: '?', 78: 'K', 79: 'q', 80: 'B', 81: 'c', 82: '$'}\n",
      "{'@': 0, 'p': 1, ':': 2, 'N': 3, '2': 4, 'Y': 5, 'z': 6, '*': 7, 'I': 8, 'y': 9, '\"': 10, 'G': 11, '3': 12, '9': 13, 'n': 14, ',': 15, 'd': 16, '-': 17, 'P': 18, 'o': 19, '_': 20, '4': 21, 'r': 22, 'O': 23, 'b': 24, 'D': 25, 'w': 26, 'R': 27, 'Q': 28, 'C': 29, 'v': 30, 'J': 31, \"'\": 32, 'L': 33, 'm': 34, '!': 35, 'W': 36, '/': 37, '\\n': 38, 'F': 39, 'x': 40, 'Z': 41, '`': 42, 'E': 43, '(': 44, 'g': 45, ';': 46, '5': 47, '6': 48, 'T': 49, ' ': 50, 'S': 51, 'a': 52, 'V': 53, 'k': 54, 'X': 55, 'H': 56, '8': 57, '%': 58, '7': 59, 'U': 60, 'f': 61, 'A': 62, 's': 63, 'i': 64, '0': 65, '&': 66, 'u': 67, 'l': 68, 'e': 69, 'M': 70, 'j': 71, '1': 72, ')': 73, 'h': 74, 't': 75, '.': 76, '?': 77, 'K': 78, 'q': 79, 'B': 80, 'c': 81, '$': 82}\n",
      "[29 74 52 ... 63 76 38]\n"
     ]
    }
   ],
   "source": [
    "# encode the text and map each character to an integer and vice versa\n",
    "\n",
    "# we create two dictionaries:\n",
    "# 1. int2char, which maps integers to characters\n",
    "# 2. char2int, which maps characters to unique integers\n",
    "chars = tuple(set(text))\n",
    "int2char = dict(enumerate(chars))\n",
    "print(int2char)\n",
    "char2int = {ch: ii for ii, ch in int2char.items()}\n",
    "print(char2int)\n",
    "\n",
    "# encode the text\n",
    "encoded = np.array([char2int[ch] for ch in text])\n",
    "print(encoded)"
   ]
  },
  {
   "cell_type": "markdown",
   "metadata": {},
   "source": [
    "And we can see those same characters from above, encoded as integers."
   ]
  },
  {
   "cell_type": "code",
   "execution_count": 7,
   "metadata": {
    "collapsed": true
   },
   "outputs": [
    {
     "data": {
      "text/plain": [
       "array([29, 74, 52,  1, 75, 69, 22, 50, 72, 38, 38, 38, 56, 52,  1,  1,  9,\n",
       "       50, 61, 52, 34, 64, 68, 64, 69, 63, 50, 52, 22, 69, 50, 52, 68, 68,\n",
       "       50, 52, 68, 64, 54, 69, 46, 50, 69, 30, 69, 22,  9, 50, 67, 14, 74,\n",
       "       52,  1,  1,  9, 50, 61, 52, 34, 64, 68,  9, 50, 64, 63, 50, 67, 14,\n",
       "       74, 52,  1,  1,  9, 50, 64, 14, 50, 64, 75, 63, 50, 19, 26, 14, 38,\n",
       "       26, 52,  9, 76, 38, 38, 43, 30, 69, 22,  9, 75, 74, 64, 14])"
      ]
     },
     "execution_count": 7,
     "metadata": {},
     "output_type": "execute_result"
    }
   ],
   "source": [
    "encoded[:100]"
   ]
  },
  {
   "cell_type": "markdown",
   "metadata": {},
   "source": [
    "## Pre-processing the data\n",
    "\n",
    "As you can see in our char-RNN image above, our LSTM expects an input that is **one-hot encoded** meaning that each character is converted into an integer (via our created dictionary) and *then* converted into a column vector where only it's corresponding integer index will have the value of 1 and the rest of the vector will be filled with 0's. Since we're one-hot encoding the data, let's make a function to do that!\n"
   ]
  },
  {
   "cell_type": "code",
   "execution_count": 9,
   "metadata": {
    "collapsed": true
   },
   "outputs": [],
   "source": [
    "def one_hot_encode(arr, n_labels):\n",
    "    \n",
    "    # Initialize the encoded array\n",
    "    one_hot = np.zeros((arr.size, n_labels), dtype=np.float32)\n",
    "    \n",
    "    # Fill the appropriate elements with ones\n",
    "    one_hot[np.arange(one_hot.shape[0]), arr.flatten()] = 1.\n",
    "    \n",
    "    # Finally reshape it to get back to the original array\n",
    "    one_hot = one_hot.reshape((*arr.shape, n_labels))\n",
    "    \n",
    "    return one_hot"
   ]
  },
  {
   "cell_type": "code",
   "execution_count": 10,
   "metadata": {
    "collapsed": true
   },
   "outputs": [
    {
     "name": "stdout",
     "output_type": "stream",
     "text": [
      "[[[0. 0. 0. 1. 0. 0. 0. 0.]\n",
      "  [0. 0. 0. 0. 0. 1. 0. 0.]\n",
      "  [0. 1. 0. 0. 0. 0. 0. 0.]]]\n"
     ]
    }
   ],
   "source": [
    "# check that the function works as expected\n",
    "test_seq = np.array([[3, 5, 1]])\n",
    "one_hot = one_hot_encode(test_seq, 8)\n",
    "\n",
    "print(one_hot)"
   ]
  },
  {
   "cell_type": "markdown",
   "metadata": {},
   "source": [
    "## Making training mini-batches\n",
    "\n",
    "\n",
    "To train on this data, we also want to create mini-batches for training. Remember that we want our batches to be multiple sequences of some desired number of sequence steps. Considering a simple example, our batches would look like this:\n",
    "\n",
    "<img src=\"assets/sequence_batching@1x.png\" width=500px>\n",
    "\n",
    "\n",
    "<br>\n",
    "\n",
    "In this example, we'll take the encoded characters (passed in as the `arr` parameter) and split them into multiple sequences, given by `batch_size`. Each of our sequences will be `seq_length` long.\n",
    "\n",
    "### Creating Batches\n",
    "\n",
    "**1. The first thing we need to do is discard some of the text so we only have completely full mini-batches. **\n",
    "\n",
    "Each batch contains $N \\times M$ characters, where $N$ is the batch size (the number of sequences in a batch) and $M$ is the seq_length or number of time steps in a sequence. Then, to get the total number of batches, $K$, that we can make from the array `arr`, you divide the length of `arr` by the number of characters per batch. Once you know the number of batches, you can get the total number of characters to keep from `arr`, $N * M * K$.\n",
    "\n",
    "**2. After that, we need to split `arr` into $N$ batches. ** \n",
    "\n",
    "You can do this using `arr.reshape(size)` where `size` is a tuple containing the dimensions sizes of the reshaped array. We know we want $N$ sequences in a batch, so let's make that the size of the first dimension. For the second dimension, you can use `-1` as a placeholder in the size, it'll fill up the array with the appropriate data for you. After this, you should have an array that is $N \\times (M * K)$.\n",
    "\n",
    "**3. Now that we have this array, we can iterate through it to get our mini-batches. **\n",
    "\n",
    "The idea is each batch is a $N \\times M$ window on the $N \\times (M * K)$ array. For each subsequent batch, the window moves over by `seq_length`. We also want to create both the input and target arrays. Remember that the targets are just the inputs shifted over by one character. The way I like to do this window is use `range` to take steps of size `n_steps` from $0$ to `arr.shape[1]`, the total number of tokens in each sequence. That way, the integers you get from `range` always point to the start of a batch, and each window is `seq_length` wide.\n",
    "\n",
    "> **TODO:** Write the code for creating batches in the function below. The exercises in this notebook _will not be easy_. I've provided a notebook with solutions alongside this notebook. If you get stuck, checkout the solutions. The most important thing is that you don't copy and paste the code into here, **type out the solution code yourself.**"
   ]
  },
  {
   "cell_type": "code",
   "execution_count": 44,
   "metadata": {
    "collapsed": true
   },
   "outputs": [],
   "source": [
    "def get_batches(arr, batch_size, seq_length):\n",
    "    '''Create a generator that returns batches of size\n",
    "       batch_size x seq_length from arr.\n",
    "       \n",
    "       Arguments\n",
    "       ---------\n",
    "       arr: Array you want to make batches from\n",
    "       batch_size: Batch size, the number of sequences per batch\n",
    "       seq_length: Number of encoded chars in a sequence\n",
    "    '''\n",
    "    \n",
    "    ## TODO: Get the number of batches we can make\n",
    "    n_batches = arr.size // (batch_size * seq_length)\n",
    "    # print(n_batches)\n",
    "    \n",
    "    ## TODO: Keep only enough characters to make full batches\n",
    "\n",
    "    arr = arr[:(n_batches * batch_size * seq_length)]\n",
    "    \n",
    "    ## TODO: Reshape into batch_size rows\n",
    "    arr = arr.reshape((batch_size, -1))\n",
    "    \n",
    "    ## TODO: Iterate over the batches using a window of size seq_length\n",
    "    for n in range(0, arr.shape[1], seq_length):\n",
    "        # The features\n",
    "        x = arr[:, n:n+seq_length]\n",
    "        # The targets, shifted by one\n",
    "        y = np.zeros_like(x)\n",
    "        try:\n",
    "            y[:, :-1], y[:, -1] = x[:, 1:], arr[:, n+seq_length]\n",
    "        except IndexError:\n",
    "            y[:, :-1], y[:, -1] = x[:, 1:], arr[:, 0]\n",
    "        yield x, y"
   ]
  },
  {
   "cell_type": "markdown",
   "metadata": {},
   "source": [
    "### Test Your Implementation\n",
    "\n",
    "Now I'll make some data sets and we can check out what's going on as we batch data. Here, as an example, I'm going to use a batch size of 8 and 50 sequence steps."
   ]
  },
  {
   "cell_type": "code",
   "execution_count": 31,
   "metadata": {
    "collapsed": true
   },
   "outputs": [
    {
     "name": "stdout",
     "output_type": "stream",
     "text": [
      "4963\n"
     ]
    }
   ],
   "source": [
    "batches = get_batches(encoded, 8, 50)\n",
    "x, y = next(batches)"
   ]
  },
  {
   "cell_type": "code",
   "execution_count": 32,
   "metadata": {
    "collapsed": true
   },
   "outputs": [
    {
     "name": "stdout",
     "output_type": "stream",
     "text": [
      "x\n",
      " [[29 74 52  1 75 69 22 50 72 38]\n",
      " [63 19 14 50 75 74 52 75 50 52]\n",
      " [69 14 16 50 19 22 50 52 50 61]\n",
      " [63 50 75 74 69 50 81 74 64 69]\n",
      " [50 63 52 26 50 74 69 22 50 75]\n",
      " [81 67 63 63 64 19 14 50 52 14]\n",
      " [50 62 14 14 52 50 74 52 16 50]\n",
      " [23 24 68 19 14 63 54  9 76 50]]\n",
      "\n",
      "y\n",
      " [[74 52  1 75 69 22 50 72 38 38]\n",
      " [19 14 50 75 74 52 75 50 52 75]\n",
      " [14 16 50 19 22 50 52 50 61 19]\n",
      " [50 75 74 69 50 81 74 64 69 61]\n",
      " [63 52 26 50 74 69 22 50 75 69]\n",
      " [67 63 63 64 19 14 50 52 14 16]\n",
      " [62 14 14 52 50 74 52 16 50 63]\n",
      " [24 68 19 14 63 54  9 76 50 10]]\n"
     ]
    }
   ],
   "source": [
    "# printing out the first 10 items in a sequence\n",
    "print('x\\n', x[:10, :10])\n",
    "print('\\ny\\n', y[:10, :10])"
   ]
  },
  {
   "cell_type": "markdown",
   "metadata": {},
   "source": [
    "If you implemented `get_batches` correctly, the above output should look something like \n",
    "```\n",
    "x\n",
    " [[25  8 60 11 45 27 28 73  1  2]\n",
    " [17  7 20 73 45  8 60 45 73 60]\n",
    " [27 20 80 73  7 28 73 60 73 65]\n",
    " [17 73 45  8 27 73 66  8 46 27]\n",
    " [73 17 60 12 73  8 27 28 73 45]\n",
    " [66 64 17 17 46  7 20 73 60 20]\n",
    " [73 76 20 20 60 73  8 60 80 73]\n",
    " [47 35 43  7 20 17 24 50 37 73]]\n",
    "\n",
    "y\n",
    " [[ 8 60 11 45 27 28 73  1  2  2]\n",
    " [ 7 20 73 45  8 60 45 73 60 45]\n",
    " [20 80 73  7 28 73 60 73 65  7]\n",
    " [73 45  8 27 73 66  8 46 27 65]\n",
    " [17 60 12 73  8 27 28 73 45 27]\n",
    " [64 17 17 46  7 20 73 60 20 80]\n",
    " [76 20 20 60 73  8 60 80 73 17]\n",
    " [35 43  7 20 17 24 50 37 73 36]]\n",
    " ```\n",
    " although the exact numbers may be different. Check to make sure the data is shifted over one step for `y`."
   ]
  },
  {
   "cell_type": "markdown",
   "metadata": {},
   "source": [
    "---\n",
    "## Defining the network with PyTorch\n",
    "\n",
    "Below is where you'll define the network.\n",
    "\n",
    "<img src=\"assets/charRNN.png\" width=500px>\n",
    "\n",
    "Next, you'll use PyTorch to define the architecture of the network. We start by defining the layers and operations we want. Then, define a method for the forward pass. You've also been given a method for predicting characters."
   ]
  },
  {
   "cell_type": "markdown",
   "metadata": {},
   "source": [
    "### Model Structure\n",
    "\n",
    "In `__init__` the suggested structure is as follows:\n",
    "* Create and store the necessary dictionaries (this has been done for you)\n",
    "* Define an LSTM layer that takes as params: an input size (the number of characters), a hidden layer size `n_hidden`, a number of layers `n_layers`, a dropout probability `drop_prob`, and a batch_first boolean (True, since we are batching)\n",
    "* Define a dropout layer with `drop_prob`\n",
    "* Define a fully-connected layer with params: input size `n_hidden` and output size (the number of characters)\n",
    "* Finally, initialize the weights (again, this has been given)\n",
    "\n",
    "Note that some parameters have been named and given in the `__init__` function, and we use them and store them by doing something like `self.drop_prob = drop_prob`."
   ]
  },
  {
   "cell_type": "markdown",
   "metadata": {},
   "source": [
    "---\n",
    "### LSTM Inputs/Outputs\n",
    "\n",
    "You can create a basic [LSTM layer](https://pytorch.org/docs/stable/nn.html#lstm) as follows\n",
    "\n",
    "```python\n",
    "self.lstm = nn.LSTM(input_size, n_hidden, n_layers, \n",
    "                            dropout=drop_prob, batch_first=True)\n",
    "```\n",
    "\n",
    "where `input_size` is the number of characters this cell expects to see as sequential input, and `n_hidden` is the number of units in the hidden layers in the cell. And we can add dropout by adding a dropout parameter with a specified probability; this will automatically add dropout to the inputs or outputs. Finally, in the `forward` function, we can stack up the LSTM cells into layers using `.view`. With this, you pass in a list of cells and it will send the output of one cell into the next cell.\n",
    "\n",
    "We also need to create an initial hidden state of all zeros. This is done like so\n",
    "\n",
    "```python\n",
    "self.init_hidden()\n",
    "```"
   ]
  },
  {
   "cell_type": "code",
   "execution_count": 33,
   "metadata": {
    "collapsed": true
   },
   "outputs": [
    {
     "name": "stdout",
     "output_type": "stream",
     "text": [
      "No GPU available, training on CPU; consider making n_epochs very small.\n"
     ]
    }
   ],
   "source": [
    "# check if GPU is available\n",
    "train_on_gpu = torch.cuda.is_available()\n",
    "if(train_on_gpu):\n",
    "    print('Training on GPU!')\n",
    "else: \n",
    "    print('No GPU available, training on CPU; consider making n_epochs very small.')"
   ]
  },
  {
   "cell_type": "code",
   "execution_count": 38,
   "metadata": {
    "collapsed": true
   },
   "outputs": [],
   "source": [
    "class CharRNN(nn.Module):\n",
    "    \n",
    "    def __init__(self, tokens, n_hidden=256, n_layers=2,\n",
    "                               drop_prob=0.5, lr=0.001):\n",
    "        super().__init__()\n",
    "        self.drop_prob = drop_prob\n",
    "        self.n_layers = n_layers\n",
    "        self.n_hidden = n_hidden\n",
    "        self.lr = lr\n",
    "        \n",
    "        # creating character dictionaries\n",
    "        self.chars = tokens\n",
    "        self.int2char = dict(enumerate(self.chars))\n",
    "        self.char2int = {ch: ii for ii, ch in self.int2char.items()}\n",
    "        \n",
    "        ## TODO: define the layers of the model\n",
    "        self.lstm = nn.LSTM(len(chars), n_hidden, n_layers, dropout=drop_prob,batch_first=True)\n",
    "        self.dropout = nn.Dropout(drop_prob)\n",
    "        self.fc = nn.Linear(n_hidden, len(chars))\n",
    "    \n",
    "    def forward(self, x, hidden):\n",
    "        ''' Forward pass through the network. \n",
    "            These inputs are x, and the hidden/cell state `hidden`. '''\n",
    "                \n",
    "        ## TODO: Get the outputs and the new hidden state from the lstm\n",
    "        out, hidden = self.lstm(x, hidden)\n",
    "        out = self.dropout(out)\n",
    "        out = out.contiguous().view(-1, self.n_hidden)\n",
    "        out = self.fc(out)\n",
    "        \n",
    "        # return the final output and the hidden state\n",
    "        return out, hidden\n",
    "    \n",
    "    \n",
    "    def init_hidden(self, batch_size):\n",
    "        ''' Initializes hidden state '''\n",
    "        # Create two new tensors with sizes n_layers x batch_size x n_hidden,\n",
    "        # initialized to zero, for hidden state and cell state of LSTM\n",
    "        weight = next(self.parameters()).data\n",
    "        \n",
    "        if (train_on_gpu):\n",
    "            hidden = (weight.new(self.n_layers, batch_size, self.n_hidden).zero_().cuda(),\n",
    "                  weight.new(self.n_layers, batch_size, self.n_hidden).zero_().cuda())\n",
    "        else:\n",
    "            hidden = (weight.new(self.n_layers, batch_size, self.n_hidden).zero_(),\n",
    "                      weight.new(self.n_layers, batch_size, self.n_hidden).zero_())\n",
    "        \n",
    "        return hidden\n",
    "        "
   ]
  },
  {
   "cell_type": "markdown",
   "metadata": {},
   "source": [
    "## Time to train\n",
    "\n",
    "The train function gives us the ability to set the number of epochs, the learning rate, and other parameters.\n",
    "\n",
    "Below we're using an Adam optimizer and cross entropy loss since we are looking at character class scores as output. We calculate the loss and perform backpropagation, as usual!\n",
    "\n",
    "A couple of details about training: \n",
    ">* Within the batch loop, we detach the hidden state from its history; this time setting it equal to a new *tuple* variable because an LSTM has a hidden state that is a tuple of the hidden and cell states.\n",
    "* We use [`clip_grad_norm_`](https://pytorch.org/docs/stable/_modules/torch/nn/utils/clip_grad.html) to help prevent exploding gradients."
   ]
  },
  {
   "cell_type": "code",
   "execution_count": 39,
   "metadata": {
    "collapsed": true
   },
   "outputs": [],
   "source": [
    "def train(net, data, epochs=3, batch_size=10, seq_length=30, lr=0.001, clip=5, val_frac=0.1, print_every=10):\n",
    "    ''' Training a network \n",
    "    \n",
    "        Arguments\n",
    "        ---------\n",
    "        \n",
    "        net: CharRNN network\n",
    "        data: text data to train the network\n",
    "        epochs: Number of epochs to train\n",
    "        batch_size: Number of mini-sequences per mini-batch, aka batch size\n",
    "        seq_length: Number of character steps per mini-batch\n",
    "        lr: learning rate\n",
    "        clip: gradient clipping\n",
    "        val_frac: Fraction of data to hold out for validation\n",
    "        print_every: Number of steps for printing training and validation loss\n",
    "    \n",
    "    '''\n",
    "    net.train()\n",
    "    \n",
    "    opt = torch.optim.Adam(net.parameters(), lr=lr)\n",
    "    criterion = nn.CrossEntropyLoss()\n",
    "    \n",
    "    # create training and validation data\n",
    "    val_idx = int(len(data)*(1-val_frac))\n",
    "    data, val_data = data[:val_idx], data[val_idx:]\n",
    "    \n",
    "    if(train_on_gpu):\n",
    "        net.cuda()\n",
    "    \n",
    "    counter = 0\n",
    "    n_chars = len(net.chars)\n",
    "    for e in range(epochs):\n",
    "        # initialize hidden state\n",
    "        h = net.init_hidden(batch_size)\n",
    "        \n",
    "        for x, y in get_batches(data, batch_size, seq_length):\n",
    "            counter += 1\n",
    "            \n",
    "            # One-hot encode our data and make them Torch tensors\n",
    "            x = one_hot_encode(x, n_chars)\n",
    "            inputs, targets = torch.from_numpy(x), torch.from_numpy(y)\n",
    "            \n",
    "            if(train_on_gpu):\n",
    "                inputs, targets = inputs.cuda(), targets.cuda()\n",
    "\n",
    "            # Creating new variables for the hidden state, otherwise\n",
    "            # we'd backprop through the entire training history\n",
    "            h = tuple([each.data for each in h])\n",
    "\n",
    "            # zero accumulated gradients\n",
    "            net.zero_grad()\n",
    "            \n",
    "            # get the output from the model\n",
    "            output, h = net(inputs, h)\n",
    "            \n",
    "            # calculate the loss and perform backprop\n",
    "            loss = criterion(output, targets.view(batch_size*seq_length).long())\n",
    "            loss.backward()\n",
    "            # `clip_grad_norm` helps prevent the exploding gradient problem in RNNs / LSTMs.\n",
    "            nn.utils.clip_grad_norm_(net.parameters(), clip)\n",
    "            opt.step()\n",
    "            \n",
    "            # loss stats\n",
    "            if counter % print_every == 0:\n",
    "                # Get validation loss\n",
    "                val_h = net.init_hidden(batch_size)\n",
    "                val_losses = []\n",
    "                net.eval()\n",
    "                for x, y in get_batches(val_data, batch_size, seq_length):\n",
    "                    # One-hot encode our data and make them Torch tensors\n",
    "                    x = one_hot_encode(x, n_chars)\n",
    "                    x, y = torch.from_numpy(x), torch.from_numpy(y)\n",
    "                    \n",
    "                    # Creating new variables for the hidden state, otherwise\n",
    "                    # we'd backprop through the entire training history\n",
    "                    val_h = tuple([each.data for each in val_h])\n",
    "                    \n",
    "                    inputs, targets = x, y\n",
    "                    if(train_on_gpu):\n",
    "                        inputs, targets = inputs.cuda(), targets.cuda()\n",
    "\n",
    "                    output, val_h = net(inputs, val_h)\n",
    "                    val_loss = criterion(output, targets.view(batch_size*seq_length).long())\n",
    "                \n",
    "                    val_losses.append(val_loss.item())\n",
    "                \n",
    "                net.train() # reset to train mode after iterationg through validation data\n",
    "                \n",
    "                print(\"Epoch: {}/{}...\".format(e+1, epochs),\n",
    "                      \"Step: {}...\".format(counter),\n",
    "                      \"Loss: {:.4f}...\".format(loss.item()),\n",
    "                      \"Val Loss: {:.4f}\".format(np.mean(val_losses)))"
   ]
  },
  {
   "cell_type": "markdown",
   "metadata": {},
   "source": [
    "## Instantiating the model\n",
    "\n",
    "Now we can actually train the network. First we'll create the network itself, with some given hyperparameters. Then, define the mini-batches sizes, and start training!"
   ]
  },
  {
   "cell_type": "code",
   "execution_count": 41,
   "metadata": {
    "collapsed": true
   },
   "outputs": [
    {
     "name": "stdout",
     "output_type": "stream",
     "text": [
      "CharRNN(\n",
      "  (lstm): LSTM(83, 512, num_layers=2, batch_first=True, dropout=0.5)\n",
      "  (dropout): Dropout(p=0.5, inplace=False)\n",
      "  (fc): Linear(in_features=512, out_features=83, bias=True)\n",
      ")\n"
     ]
    }
   ],
   "source": [
    "## TODO: set your model hyperparameters\n",
    "# define and print the net\n",
    "n_hidden= 512\n",
    "n_layers= 2\n",
    "\n",
    "net = CharRNN(chars, n_hidden, n_layers)\n",
    "print(net)"
   ]
  },
  {
   "cell_type": "markdown",
   "metadata": {},
   "source": [
    "### Set your training hyperparameters!"
   ]
  },
  {
   "cell_type": "code",
   "execution_count": 46,
   "metadata": {
    "collapsed": true,
    "scrolled": true
   },
   "outputs": [
    {
     "name": "stdout",
     "output_type": "stream",
     "text": [
      "Epoch: 1/2... Step: 10... Loss: 2.6095... Val Loss: 2.5476\n",
      "Epoch: 1/2... Step: 20... Loss: 2.5148... Val Loss: 2.5186\n",
      "Epoch: 1/2... Step: 30... Loss: 2.4189... Val Loss: 2.4921\n",
      "Epoch: 1/2... Step: 40... Loss: 2.3897... Val Loss: 2.4804\n",
      "Epoch: 1/2... Step: 50... Loss: 2.4651... Val Loss: 2.4614\n",
      "Epoch: 1/2... Step: 60... Loss: 2.3842... Val Loss: 2.4425\n",
      "Epoch: 1/2... Step: 70... Loss: 2.3042... Val Loss: 2.4245\n",
      "Epoch: 1/2... Step: 80... Loss: 2.3282... Val Loss: 2.4153\n",
      "Epoch: 1/2... Step: 90... Loss: 2.4072... Val Loss: 2.4235\n",
      "Epoch: 1/2... Step: 100... Loss: 2.3459... Val Loss: 2.3888\n",
      "Epoch: 1/2... Step: 110... Loss: 2.3492... Val Loss: 2.3744\n",
      "Epoch: 1/2... Step: 120... Loss: 2.4148... Val Loss: 2.3648\n",
      "Epoch: 1/2... Step: 130... Loss: 2.2472... Val Loss: 2.3530\n",
      "Epoch: 1/2... Step: 140... Loss: 2.3127... Val Loss: 2.3478\n",
      "Epoch: 1/2... Step: 150... Loss: 2.3119... Val Loss: 2.3371\n",
      "Epoch: 1/2... Step: 160... Loss: 2.1932... Val Loss: 2.3202\n",
      "Epoch: 1/2... Step: 170... Loss: 2.2315... Val Loss: 2.3134\n",
      "Epoch: 1/2... Step: 180... Loss: 2.3406... Val Loss: 2.3029\n",
      "Epoch: 1/2... Step: 190... Loss: 2.2689... Val Loss: 2.2919\n",
      "Epoch: 1/2... Step: 200... Loss: 2.2853... Val Loss: 2.2878\n",
      "Epoch: 1/2... Step: 210... Loss: 2.1690... Val Loss: 2.2740\n",
      "Epoch: 1/2... Step: 220... Loss: 2.3727... Val Loss: 2.2654\n",
      "Epoch: 1/2... Step: 230... Loss: 2.1325... Val Loss: 2.2578\n",
      "Epoch: 1/2... Step: 240... Loss: 2.1572... Val Loss: 2.2513\n",
      "Epoch: 1/2... Step: 250... Loss: 2.2310... Val Loss: 2.2450\n",
      "Epoch: 1/2... Step: 260... Loss: 2.3255... Val Loss: 2.2430\n",
      "Epoch: 1/2... Step: 270... Loss: 2.2095... Val Loss: 2.2293\n",
      "Epoch: 1/2... Step: 280... Loss: 2.1877... Val Loss: 2.2270\n",
      "Epoch: 1/2... Step: 290... Loss: 2.1669... Val Loss: 2.2192\n",
      "Epoch: 1/2... Step: 300... Loss: 2.1353... Val Loss: 2.1993\n",
      "Epoch: 1/2... Step: 310... Loss: 2.2397... Val Loss: 2.1910\n",
      "Epoch: 1/2... Step: 320... Loss: 2.1190... Val Loss: 2.1877\n",
      "Epoch: 1/2... Step: 330... Loss: 2.2375... Val Loss: 2.1877\n",
      "Epoch: 1/2... Step: 340... Loss: 2.2592... Val Loss: 2.1708\n",
      "Epoch: 1/2... Step: 350... Loss: 2.1400... Val Loss: 2.1656\n",
      "Epoch: 1/2... Step: 360... Loss: 2.1654... Val Loss: 2.1567\n",
      "Epoch: 1/2... Step: 370... Loss: 2.1012... Val Loss: 2.1533\n",
      "Epoch: 1/2... Step: 380... Loss: 2.0855... Val Loss: 2.1409\n",
      "Epoch: 1/2... Step: 390... Loss: 2.0682... Val Loss: 2.1424\n",
      "Epoch: 1/2... Step: 400... Loss: 2.0146... Val Loss: 2.1384\n",
      "Epoch: 1/2... Step: 410... Loss: 2.1106... Val Loss: 2.1248\n",
      "Epoch: 1/2... Step: 420... Loss: 2.0102... Val Loss: 2.1183\n",
      "Epoch: 1/2... Step: 430... Loss: 2.2059... Val Loss: 2.1090\n",
      "Epoch: 1/2... Step: 440... Loss: 2.1652... Val Loss: 2.1030\n",
      "Epoch: 1/2... Step: 450... Loss: 2.0567... Val Loss: 2.1028\n",
      "Epoch: 1/2... Step: 460... Loss: 2.0669... Val Loss: 2.0860\n",
      "Epoch: 1/2... Step: 470... Loss: 2.0206... Val Loss: 2.0819\n",
      "Epoch: 1/2... Step: 480... Loss: 2.1154... Val Loss: 2.0705\n",
      "Epoch: 1/2... Step: 490... Loss: 1.9952... Val Loss: 2.0700\n",
      "Epoch: 1/2... Step: 500... Loss: 2.0917... Val Loss: 2.0708\n",
      "Epoch: 1/2... Step: 510... Loss: 2.0455... Val Loss: 2.0709\n",
      "Epoch: 1/2... Step: 520... Loss: 1.9801... Val Loss: 2.0552\n",
      "Epoch: 1/2... Step: 530... Loss: 2.1296... Val Loss: 2.0501\n",
      "Epoch: 1/2... Step: 540... Loss: 1.9984... Val Loss: 2.0491\n",
      "Epoch: 1/2... Step: 550... Loss: 2.0948... Val Loss: 2.0440\n",
      "Epoch: 1/2... Step: 560... Loss: 2.1188... Val Loss: 2.0465\n",
      "Epoch: 1/2... Step: 570... Loss: 2.0007... Val Loss: 2.0277\n",
      "Epoch: 1/2... Step: 580... Loss: 1.9365... Val Loss: 2.0246\n",
      "Epoch: 1/2... Step: 590... Loss: 2.1306... Val Loss: 2.0155\n",
      "Epoch: 1/2... Step: 600... Loss: 1.9316... Val Loss: 2.0146\n",
      "Epoch: 1/2... Step: 610... Loss: 1.9541... Val Loss: 2.0112\n",
      "Epoch: 1/2... Step: 620... Loss: 2.0688... Val Loss: 2.0027\n",
      "Epoch: 1/2... Step: 630... Loss: 2.0164... Val Loss: 1.9939\n",
      "Epoch: 1/2... Step: 640... Loss: 1.9606... Val Loss: 1.9884\n",
      "Epoch: 1/2... Step: 650... Loss: 1.9517... Val Loss: 1.9737\n",
      "Epoch: 1/2... Step: 660... Loss: 2.1826... Val Loss: 1.9691\n",
      "Epoch: 1/2... Step: 670... Loss: 1.9342... Val Loss: 1.9717\n",
      "Epoch: 1/2... Step: 680... Loss: 2.0399... Val Loss: 1.9609\n",
      "Epoch: 1/2... Step: 690... Loss: 2.0164... Val Loss: 1.9624\n",
      "Epoch: 1/2... Step: 700... Loss: 1.9447... Val Loss: 1.9569\n",
      "Epoch: 1/2... Step: 710... Loss: 1.9160... Val Loss: 1.9558\n",
      "Epoch: 1/2... Step: 720... Loss: 1.9496... Val Loss: 1.9505\n",
      "Epoch: 1/2... Step: 730... Loss: 1.8762... Val Loss: 1.9461\n",
      "Epoch: 1/2... Step: 740... Loss: 2.0411... Val Loss: 1.9349\n",
      "Epoch: 1/2... Step: 750... Loss: 2.0986... Val Loss: 1.9402\n",
      "Epoch: 1/2... Step: 760... Loss: 1.8519... Val Loss: 1.9346\n",
      "Epoch: 1/2... Step: 770... Loss: 1.9461... Val Loss: 1.9235\n",
      "Epoch: 1/2... Step: 780... Loss: 1.9507... Val Loss: 1.9263\n",
      "Epoch: 1/2... Step: 790... Loss: 1.7375... Val Loss: 1.9170\n",
      "Epoch: 1/2... Step: 800... Loss: 1.8072... Val Loss: 1.9134\n",
      "Epoch: 1/2... Step: 810... Loss: 1.8796... Val Loss: 1.9071\n",
      "Epoch: 1/2... Step: 820... Loss: 1.9350... Val Loss: 1.9066\n",
      "Epoch: 1/2... Step: 830... Loss: 1.8001... Val Loss: 1.9068\n",
      "Epoch: 1/2... Step: 840... Loss: 1.7621... Val Loss: 1.9009\n",
      "Epoch: 1/2... Step: 850... Loss: 2.1105... Val Loss: 1.8872\n",
      "Epoch: 1/2... Step: 860... Loss: 1.9806... Val Loss: 1.8954\n",
      "Epoch: 1/2... Step: 870... Loss: 1.8343... Val Loss: 1.8870\n",
      "Epoch: 1/2... Step: 880... Loss: 1.8378... Val Loss: 1.8872\n",
      "Epoch: 1/2... Step: 890... Loss: 1.7623... Val Loss: 1.8789\n",
      "Epoch: 1/2... Step: 900... Loss: 1.9027... Val Loss: 1.8805\n",
      "Epoch: 1/2... Step: 910... Loss: 1.9545... Val Loss: 1.8769\n",
      "Epoch: 1/2... Step: 920... Loss: 1.8946... Val Loss: 1.8742\n",
      "Epoch: 1/2... Step: 930... Loss: 2.0738... Val Loss: 1.8775\n",
      "Epoch: 1/2... Step: 940... Loss: 1.8850... Val Loss: 1.8683\n",
      "Epoch: 1/2... Step: 950... Loss: 1.8533... Val Loss: 1.8630\n",
      "Epoch: 1/2... Step: 960... Loss: 1.8429... Val Loss: 1.8584\n",
      "Epoch: 1/2... Step: 970... Loss: 1.7591... Val Loss: 1.8555\n",
      "Epoch: 1/2... Step: 980... Loss: 1.7172... Val Loss: 1.8486\n",
      "Epoch: 1/2... Step: 990... Loss: 1.8222... Val Loss: 1.8487\n",
      "Epoch: 1/2... Step: 1000... Loss: 1.9338... Val Loss: 1.8594\n",
      "Epoch: 1/2... Step: 1010... Loss: 1.8288... Val Loss: 1.8422\n",
      "Epoch: 1/2... Step: 1020... Loss: 1.8347... Val Loss: 1.8380\n",
      "Epoch: 1/2... Step: 1030... Loss: 1.9999... Val Loss: 1.8409\n",
      "Epoch: 1/2... Step: 1040... Loss: 1.9107... Val Loss: 1.8365\n",
      "Epoch: 1/2... Step: 1050... Loss: 1.7546... Val Loss: 1.8250\n",
      "Epoch: 1/2... Step: 1060... Loss: 1.8100... Val Loss: 1.8238\n",
      "Epoch: 1/2... Step: 1070... Loss: 1.6587... Val Loss: 1.8190\n",
      "Epoch: 1/2... Step: 1080... Loss: 1.7964... Val Loss: 1.8259\n",
      "Epoch: 1/2... Step: 1090... Loss: 1.8431... Val Loss: 1.8138\n",
      "Epoch: 1/2... Step: 1100... Loss: 1.7067... Val Loss: 1.8081\n",
      "Epoch: 1/2... Step: 1110... Loss: 1.8415... Val Loss: 1.8062\n",
      "Epoch: 1/2... Step: 1120... Loss: 1.6603... Val Loss: 1.8044\n",
      "Epoch: 1/2... Step: 1130... Loss: 1.6940... Val Loss: 1.8020\n",
      "Epoch: 1/2... Step: 1140... Loss: 1.8850... Val Loss: 1.7987\n",
      "Epoch: 1/2... Step: 1150... Loss: 1.7293... Val Loss: 1.7923\n",
      "Epoch: 1/2... Step: 1160... Loss: 1.8494... Val Loss: 1.7916\n",
      "Epoch: 1/2... Step: 1170... Loss: 1.6831... Val Loss: 1.7922\n",
      "Epoch: 1/2... Step: 1180... Loss: 1.8182... Val Loss: 1.7890\n",
      "Epoch: 1/2... Step: 1190... Loss: 1.6940... Val Loss: 1.7875\n",
      "Epoch: 1/2... Step: 1200... Loss: 1.7825... Val Loss: 1.7847\n",
      "Epoch: 1/2... Step: 1210... Loss: 1.7899... Val Loss: 1.7804\n",
      "Epoch: 1/2... Step: 1220... Loss: 1.7807... Val Loss: 1.7818\n",
      "Epoch: 1/2... Step: 1230... Loss: 1.6699... Val Loss: 1.7770\n",
      "Epoch: 1/2... Step: 1240... Loss: 1.6434... Val Loss: 1.7802\n",
      "Epoch: 1/2... Step: 1250... Loss: 1.7871... Val Loss: 1.7737\n",
      "Epoch: 1/2... Step: 1260... Loss: 1.7583... Val Loss: 1.7691\n",
      "Epoch: 1/2... Step: 1270... Loss: 1.8507... Val Loss: 1.7706\n",
      "Epoch: 1/2... Step: 1280... Loss: 1.7272... Val Loss: 1.7692\n",
      "Epoch: 1/2... Step: 1290... Loss: 1.6650... Val Loss: 1.7746\n",
      "Epoch: 1/2... Step: 1300... Loss: 1.5246... Val Loss: 1.7678\n",
      "Epoch: 1/2... Step: 1310... Loss: 1.8351... Val Loss: 1.7597\n",
      "Epoch: 1/2... Step: 1320... Loss: 1.8423... Val Loss: 1.7550\n",
      "Epoch: 1/2... Step: 1330... Loss: 1.5325... Val Loss: 1.7659\n",
      "Epoch: 1/2... Step: 1340... Loss: 1.5986... Val Loss: 1.7522\n",
      "Epoch: 1/2... Step: 1350... Loss: 1.8140... Val Loss: 1.7513\n",
      "Epoch: 1/2... Step: 1360... Loss: 1.6643... Val Loss: 1.7545\n",
      "Epoch: 1/2... Step: 1370... Loss: 1.6592... Val Loss: 1.7458\n",
      "Epoch: 1/2... Step: 1380... Loss: 1.7064... Val Loss: 1.7444\n",
      "Epoch: 1/2... Step: 1390... Loss: 1.7511... Val Loss: 1.7487\n",
      "Epoch: 1/2... Step: 1400... Loss: 1.5825... Val Loss: 1.7391\n",
      "Epoch: 1/2... Step: 1410... Loss: 1.7557... Val Loss: 1.7377\n",
      "Epoch: 1/2... Step: 1420... Loss: 1.5752... Val Loss: 1.7330\n",
      "Epoch: 1/2... Step: 1430... Loss: 1.7499... Val Loss: 1.7334\n",
      "Epoch: 1/2... Step: 1440... Loss: 1.7239... Val Loss: 1.7414\n",
      "Epoch: 1/2... Step: 1450... Loss: 1.8732... Val Loss: 1.7274\n",
      "Epoch: 1/2... Step: 1460... Loss: 1.6692... Val Loss: 1.7319\n",
      "Epoch: 1/2... Step: 1470... Loss: 1.8524... Val Loss: 1.7272\n",
      "Epoch: 1/2... Step: 1480... Loss: 1.7266... Val Loss: 1.7256\n",
      "Epoch: 1/2... Step: 1490... Loss: 1.7612... Val Loss: 1.7249\n",
      "Epoch: 1/2... Step: 1500... Loss: 1.7870... Val Loss: 1.7217\n",
      "Epoch: 1/2... Step: 1510... Loss: 1.6789... Val Loss: 1.7199\n",
      "Epoch: 1/2... Step: 1520... Loss: 1.7429... Val Loss: 1.7172\n",
      "Epoch: 1/2... Step: 1530... Loss: 1.6869... Val Loss: 1.7175\n",
      "Epoch: 1/2... Step: 1540... Loss: 1.6417... Val Loss: 1.7143\n",
      "Epoch: 1/2... Step: 1550... Loss: 1.7448... Val Loss: 1.7110\n",
      "Epoch: 1/2... Step: 1560... Loss: 1.5894... Val Loss: 1.7174\n",
      "Epoch: 1/2... Step: 1570... Loss: 1.8350... Val Loss: 1.7233\n",
      "Epoch: 1/2... Step: 1580... Loss: 1.6494... Val Loss: 1.7235\n",
      "Epoch: 1/2... Step: 1590... Loss: 1.5536... Val Loss: 1.7142\n",
      "Epoch: 1/2... Step: 1600... Loss: 1.7777... Val Loss: 1.7138\n",
      "Epoch: 1/2... Step: 1610... Loss: 1.7465... Val Loss: 1.7056\n",
      "Epoch: 1/2... Step: 1620... Loss: 1.6244... Val Loss: 1.7098\n",
      "Epoch: 1/2... Step: 1630... Loss: 1.7664... Val Loss: 1.7065\n",
      "Epoch: 1/2... Step: 1640... Loss: 1.6567... Val Loss: 1.7009\n",
      "Epoch: 1/2... Step: 1650... Loss: 1.6479... Val Loss: 1.7011\n",
      "Epoch: 1/2... Step: 1660... Loss: 1.6324... Val Loss: 1.6982\n",
      "Epoch: 1/2... Step: 1670... Loss: 1.4907... Val Loss: 1.6928\n",
      "Epoch: 1/2... Step: 1680... Loss: 1.5865... Val Loss: 1.6903\n",
      "Epoch: 1/2... Step: 1690... Loss: 1.5329... Val Loss: 1.6851\n",
      "Epoch: 1/2... Step: 1700... Loss: 1.6953... Val Loss: 1.6928\n",
      "Epoch: 1/2... Step: 1710... Loss: 1.6587... Val Loss: 1.6911\n",
      "Epoch: 1/2... Step: 1720... Loss: 1.6077... Val Loss: 1.6849\n",
      "Epoch: 1/2... Step: 1730... Loss: 1.5911... Val Loss: 1.6877\n",
      "Epoch: 1/2... Step: 1740... Loss: 1.6149... Val Loss: 1.6809\n",
      "Epoch: 1/2... Step: 1750... Loss: 1.6947... Val Loss: 1.6796\n",
      "Epoch: 1/2... Step: 1760... Loss: 1.6107... Val Loss: 1.6838\n",
      "Epoch: 1/2... Step: 1770... Loss: 1.5712... Val Loss: 1.6789\n",
      "Epoch: 1/2... Step: 1780... Loss: 1.4692... Val Loss: 1.6789\n",
      "Epoch: 1/2... Step: 1790... Loss: 1.6117... Val Loss: 1.6744\n",
      "Epoch: 1/2... Step: 1800... Loss: 1.7055... Val Loss: 1.6726\n",
      "Epoch: 1/2... Step: 1810... Loss: 1.6125... Val Loss: 1.6735\n",
      "Epoch: 1/2... Step: 1820... Loss: 1.4333... Val Loss: 1.6671\n",
      "Epoch: 1/2... Step: 1830... Loss: 1.6987... Val Loss: 1.6706\n",
      "Epoch: 1/2... Step: 1840... Loss: 1.6405... Val Loss: 1.6812\n",
      "Epoch: 1/2... Step: 1850... Loss: 1.5826... Val Loss: 1.6668\n",
      "Epoch: 1/2... Step: 1860... Loss: 1.7038... Val Loss: 1.6727\n",
      "Epoch: 1/2... Step: 1870... Loss: 1.6127... Val Loss: 1.6682\n",
      "Epoch: 1/2... Step: 1880... Loss: 1.6658... Val Loss: 1.6650\n",
      "Epoch: 1/2... Step: 1890... Loss: 1.6711... Val Loss: 1.6617\n",
      "Epoch: 1/2... Step: 1900... Loss: 1.5444... Val Loss: 1.6572\n",
      "Epoch: 1/2... Step: 1910... Loss: 1.4879... Val Loss: 1.6549\n",
      "Epoch: 1/2... Step: 1920... Loss: 1.6421... Val Loss: 1.6598\n",
      "Epoch: 1/2... Step: 1930... Loss: 1.5334... Val Loss: 1.6556\n",
      "Epoch: 1/2... Step: 1940... Loss: 1.7068... Val Loss: 1.6529\n",
      "Epoch: 1/2... Step: 1950... Loss: 1.7815... Val Loss: 1.6529\n",
      "Epoch: 1/2... Step: 1960... Loss: 1.7128... Val Loss: 1.6505\n",
      "Epoch: 1/2... Step: 1970... Loss: 1.5305... Val Loss: 1.6515\n",
      "Epoch: 1/2... Step: 1980... Loss: 1.6078... Val Loss: 1.6489\n",
      "Epoch: 1/2... Step: 1990... Loss: 1.6629... Val Loss: 1.6491\n",
      "Epoch: 1/2... Step: 2000... Loss: 1.6914... Val Loss: 1.6439\n",
      "Epoch: 1/2... Step: 2010... Loss: 1.5463... Val Loss: 1.6487\n",
      "Epoch: 1/2... Step: 2020... Loss: 1.5597... Val Loss: 1.6459\n",
      "Epoch: 1/2... Step: 2030... Loss: 1.7380... Val Loss: 1.6434\n",
      "Epoch: 1/2... Step: 2040... Loss: 1.5725... Val Loss: 1.6444\n",
      "Epoch: 1/2... Step: 2050... Loss: 1.7259... Val Loss: 1.6416\n",
      "Epoch: 1/2... Step: 2060... Loss: 1.6955... Val Loss: 1.6448\n",
      "Epoch: 1/2... Step: 2070... Loss: 1.7181... Val Loss: 1.6395\n",
      "Epoch: 1/2... Step: 2080... Loss: 1.7193... Val Loss: 1.6357\n",
      "Epoch: 1/2... Step: 2090... Loss: 1.5869... Val Loss: 1.6332\n",
      "Epoch: 1/2... Step: 2100... Loss: 1.6680... Val Loss: 1.6360\n",
      "Epoch: 1/2... Step: 2110... Loss: 1.5421... Val Loss: 1.6322\n",
      "Epoch: 1/2... Step: 2120... Loss: 1.5581... Val Loss: 1.6344\n",
      "Epoch: 1/2... Step: 2130... Loss: 1.6199... Val Loss: 1.6298\n",
      "Epoch: 1/2... Step: 2140... Loss: 1.6927... Val Loss: 1.6308\n",
      "Epoch: 1/2... Step: 2150... Loss: 1.5835... Val Loss: 1.6325\n",
      "Epoch: 1/2... Step: 2160... Loss: 1.6256... Val Loss: 1.6281\n",
      "Epoch: 1/2... Step: 2170... Loss: 1.6529... Val Loss: 1.6310\n",
      "Epoch: 1/2... Step: 2180... Loss: 1.6493... Val Loss: 1.6298\n",
      "Epoch: 1/2... Step: 2190... Loss: 1.5226... Val Loss: 1.6283\n",
      "Epoch: 1/2... Step: 2200... Loss: 1.6461... Val Loss: 1.6276\n",
      "Epoch: 1/2... Step: 2210... Loss: 1.6357... Val Loss: 1.6279\n",
      "Epoch: 1/2... Step: 2220... Loss: 1.5075... Val Loss: 1.6218\n",
      "Epoch: 1/2... Step: 2230... Loss: 1.7062... Val Loss: 1.6249\n",
      "Epoch: 1/2... Step: 2240... Loss: 1.6649... Val Loss: 1.6238\n",
      "Epoch: 1/2... Step: 2250... Loss: 1.4246... Val Loss: 1.6180\n",
      "Epoch: 1/2... Step: 2260... Loss: 1.5040... Val Loss: 1.6145\n",
      "Epoch: 1/2... Step: 2270... Loss: 1.5379... Val Loss: 1.6118\n",
      "Epoch: 1/2... Step: 2280... Loss: 1.5684... Val Loss: 1.6142\n",
      "Epoch: 1/2... Step: 2290... Loss: 1.5688... Val Loss: 1.6138\n",
      "Epoch: 1/2... Step: 2300... Loss: 1.6907... Val Loss: 1.6159\n",
      "Epoch: 1/2... Step: 2310... Loss: 1.3963... Val Loss: 1.6152\n",
      "Epoch: 1/2... Step: 2320... Loss: 1.5609... Val Loss: 1.6083\n",
      "Epoch: 1/2... Step: 2330... Loss: 1.4915... Val Loss: 1.6131\n",
      "Epoch: 1/2... Step: 2340... Loss: 1.6826... Val Loss: 1.6131\n",
      "Epoch: 1/2... Step: 2350... Loss: 1.6472... Val Loss: 1.6078\n",
      "Epoch: 1/2... Step: 2360... Loss: 1.5418... Val Loss: 1.6094\n",
      "Epoch: 1/2... Step: 2370... Loss: 1.4545... Val Loss: 1.6111\n",
      "Epoch: 1/2... Step: 2380... Loss: 1.4131... Val Loss: 1.6045\n"
     ]
    },
    {
     "ename": "KeyboardInterrupt",
     "evalue": "",
     "output_type": "error",
     "traceback": [
      "\u001b[0;31m---------------------------------------------------------------------------\u001b[0m",
      "\u001b[0;31mKeyboardInterrupt\u001b[0m                         Traceback (most recent call last)",
      "Cell \u001b[0;32mIn[46], line 6\u001b[0m\n\u001b[1;32m      3\u001b[0m n_epochs \u001b[39m=\u001b[39m \u001b[39m2\u001b[39m \u001b[39m# start small if you are just testing initial behavior\u001b[39;00m\n\u001b[1;32m      5\u001b[0m \u001b[39m# train the model\u001b[39;00m\n\u001b[0;32m----> 6\u001b[0m train(net, encoded, epochs\u001b[39m=\u001b[39;49mn_epochs, batch_size\u001b[39m=\u001b[39;49mbatch_size, seq_length\u001b[39m=\u001b[39;49mseq_length, lr\u001b[39m=\u001b[39;49m\u001b[39m0.001\u001b[39;49m, print_every\u001b[39m=\u001b[39;49m\u001b[39m10\u001b[39;49m)\n",
      "Cell \u001b[0;32mIn[39], line 82\u001b[0m, in \u001b[0;36mtrain\u001b[0;34m(net, data, epochs, batch_size, seq_length, lr, clip, val_frac, print_every)\u001b[0m\n\u001b[1;32m     79\u001b[0m \u001b[39mif\u001b[39;00m(train_on_gpu):\n\u001b[1;32m     80\u001b[0m     inputs, targets \u001b[39m=\u001b[39m inputs\u001b[39m.\u001b[39mcuda(), targets\u001b[39m.\u001b[39mcuda()\n\u001b[0;32m---> 82\u001b[0m output, val_h \u001b[39m=\u001b[39m net(inputs, val_h)\n\u001b[1;32m     83\u001b[0m val_loss \u001b[39m=\u001b[39m criterion(output, targets\u001b[39m.\u001b[39mview(batch_size\u001b[39m*\u001b[39mseq_length)\u001b[39m.\u001b[39mlong())\n\u001b[1;32m     85\u001b[0m val_losses\u001b[39m.\u001b[39mappend(val_loss\u001b[39m.\u001b[39mitem())\n",
      "File \u001b[0;32m~/anaconda3/envs/udacity_pytorch/lib/python3.8/site-packages/torch/nn/modules/module.py:1501\u001b[0m, in \u001b[0;36mModule._call_impl\u001b[0;34m(self, *args, **kwargs)\u001b[0m\n\u001b[1;32m   1496\u001b[0m \u001b[39m# If we don't have any hooks, we want to skip the rest of the logic in\u001b[39;00m\n\u001b[1;32m   1497\u001b[0m \u001b[39m# this function, and just call forward.\u001b[39;00m\n\u001b[1;32m   1498\u001b[0m \u001b[39mif\u001b[39;00m \u001b[39mnot\u001b[39;00m (\u001b[39mself\u001b[39m\u001b[39m.\u001b[39m_backward_hooks \u001b[39mor\u001b[39;00m \u001b[39mself\u001b[39m\u001b[39m.\u001b[39m_backward_pre_hooks \u001b[39mor\u001b[39;00m \u001b[39mself\u001b[39m\u001b[39m.\u001b[39m_forward_hooks \u001b[39mor\u001b[39;00m \u001b[39mself\u001b[39m\u001b[39m.\u001b[39m_forward_pre_hooks\n\u001b[1;32m   1499\u001b[0m         \u001b[39mor\u001b[39;00m _global_backward_pre_hooks \u001b[39mor\u001b[39;00m _global_backward_hooks\n\u001b[1;32m   1500\u001b[0m         \u001b[39mor\u001b[39;00m _global_forward_hooks \u001b[39mor\u001b[39;00m _global_forward_pre_hooks):\n\u001b[0;32m-> 1501\u001b[0m     \u001b[39mreturn\u001b[39;00m forward_call(\u001b[39m*\u001b[39;49margs, \u001b[39m*\u001b[39;49m\u001b[39m*\u001b[39;49mkwargs)\n\u001b[1;32m   1502\u001b[0m \u001b[39m# Do not call functions when jit is used\u001b[39;00m\n\u001b[1;32m   1503\u001b[0m full_backward_hooks, non_full_backward_hooks \u001b[39m=\u001b[39m [], []\n",
      "Cell \u001b[0;32mIn[38], line 26\u001b[0m, in \u001b[0;36mCharRNN.forward\u001b[0;34m(self, x, hidden)\u001b[0m\n\u001b[1;32m     22\u001b[0m \u001b[39m\u001b[39m\u001b[39m''' Forward pass through the network. \u001b[39;00m\n\u001b[1;32m     23\u001b[0m \u001b[39m    These inputs are x, and the hidden/cell state `hidden`. '''\u001b[39;00m\n\u001b[1;32m     25\u001b[0m \u001b[39m## TODO: Get the outputs and the new hidden state from the lstm\u001b[39;00m\n\u001b[0;32m---> 26\u001b[0m out, hidden \u001b[39m=\u001b[39m \u001b[39mself\u001b[39;49m\u001b[39m.\u001b[39;49mlstm(x, hidden)\n\u001b[1;32m     27\u001b[0m out \u001b[39m=\u001b[39m \u001b[39mself\u001b[39m\u001b[39m.\u001b[39mdropout(out)\n\u001b[1;32m     28\u001b[0m out \u001b[39m=\u001b[39m out\u001b[39m.\u001b[39mcontiguous()\u001b[39m.\u001b[39mview(\u001b[39m-\u001b[39m\u001b[39m1\u001b[39m, \u001b[39mself\u001b[39m\u001b[39m.\u001b[39mn_hidden)\n",
      "File \u001b[0;32m~/anaconda3/envs/udacity_pytorch/lib/python3.8/site-packages/torch/nn/modules/module.py:1501\u001b[0m, in \u001b[0;36mModule._call_impl\u001b[0;34m(self, *args, **kwargs)\u001b[0m\n\u001b[1;32m   1496\u001b[0m \u001b[39m# If we don't have any hooks, we want to skip the rest of the logic in\u001b[39;00m\n\u001b[1;32m   1497\u001b[0m \u001b[39m# this function, and just call forward.\u001b[39;00m\n\u001b[1;32m   1498\u001b[0m \u001b[39mif\u001b[39;00m \u001b[39mnot\u001b[39;00m (\u001b[39mself\u001b[39m\u001b[39m.\u001b[39m_backward_hooks \u001b[39mor\u001b[39;00m \u001b[39mself\u001b[39m\u001b[39m.\u001b[39m_backward_pre_hooks \u001b[39mor\u001b[39;00m \u001b[39mself\u001b[39m\u001b[39m.\u001b[39m_forward_hooks \u001b[39mor\u001b[39;00m \u001b[39mself\u001b[39m\u001b[39m.\u001b[39m_forward_pre_hooks\n\u001b[1;32m   1499\u001b[0m         \u001b[39mor\u001b[39;00m _global_backward_pre_hooks \u001b[39mor\u001b[39;00m _global_backward_hooks\n\u001b[1;32m   1500\u001b[0m         \u001b[39mor\u001b[39;00m _global_forward_hooks \u001b[39mor\u001b[39;00m _global_forward_pre_hooks):\n\u001b[0;32m-> 1501\u001b[0m     \u001b[39mreturn\u001b[39;00m forward_call(\u001b[39m*\u001b[39;49margs, \u001b[39m*\u001b[39;49m\u001b[39m*\u001b[39;49mkwargs)\n\u001b[1;32m   1502\u001b[0m \u001b[39m# Do not call functions when jit is used\u001b[39;00m\n\u001b[1;32m   1503\u001b[0m full_backward_hooks, non_full_backward_hooks \u001b[39m=\u001b[39m [], []\n",
      "File \u001b[0;32m~/anaconda3/envs/udacity_pytorch/lib/python3.8/site-packages/torch/nn/modules/rnn.py:812\u001b[0m, in \u001b[0;36mLSTM.forward\u001b[0;34m(self, input, hx)\u001b[0m\n\u001b[1;32m    810\u001b[0m \u001b[39mself\u001b[39m\u001b[39m.\u001b[39mcheck_forward_args(\u001b[39minput\u001b[39m, hx, batch_sizes)\n\u001b[1;32m    811\u001b[0m \u001b[39mif\u001b[39;00m batch_sizes \u001b[39mis\u001b[39;00m \u001b[39mNone\u001b[39;00m:\n\u001b[0;32m--> 812\u001b[0m     result \u001b[39m=\u001b[39m _VF\u001b[39m.\u001b[39;49mlstm(\u001b[39minput\u001b[39;49m, hx, \u001b[39mself\u001b[39;49m\u001b[39m.\u001b[39;49m_flat_weights, \u001b[39mself\u001b[39;49m\u001b[39m.\u001b[39;49mbias, \u001b[39mself\u001b[39;49m\u001b[39m.\u001b[39;49mnum_layers,\n\u001b[1;32m    813\u001b[0m                       \u001b[39mself\u001b[39;49m\u001b[39m.\u001b[39;49mdropout, \u001b[39mself\u001b[39;49m\u001b[39m.\u001b[39;49mtraining, \u001b[39mself\u001b[39;49m\u001b[39m.\u001b[39;49mbidirectional, \u001b[39mself\u001b[39;49m\u001b[39m.\u001b[39;49mbatch_first)\n\u001b[1;32m    814\u001b[0m \u001b[39melse\u001b[39;00m:\n\u001b[1;32m    815\u001b[0m     result \u001b[39m=\u001b[39m _VF\u001b[39m.\u001b[39mlstm(\u001b[39minput\u001b[39m, batch_sizes, hx, \u001b[39mself\u001b[39m\u001b[39m.\u001b[39m_flat_weights, \u001b[39mself\u001b[39m\u001b[39m.\u001b[39mbias,\n\u001b[1;32m    816\u001b[0m                       \u001b[39mself\u001b[39m\u001b[39m.\u001b[39mnum_layers, \u001b[39mself\u001b[39m\u001b[39m.\u001b[39mdropout, \u001b[39mself\u001b[39m\u001b[39m.\u001b[39mtraining, \u001b[39mself\u001b[39m\u001b[39m.\u001b[39mbidirectional)\n",
      "\u001b[0;31mKeyboardInterrupt\u001b[0m: "
     ]
    }
   ],
   "source": [
    "batch_size = 10\n",
    "seq_length = 50\n",
    "n_epochs = 2 # start small if you are just testing initial behavior\n",
    "\n",
    "# train the model\n",
    "train(net, encoded, epochs=n_epochs, batch_size=batch_size, seq_length=seq_length, lr=0.001, print_every=10)"
   ]
  },
  {
   "cell_type": "markdown",
   "metadata": {},
   "source": [
    "## Getting the best model\n",
    "\n",
    "To set your hyperparameters to get the best performance, you'll want to watch the training and validation losses. If your training loss is much lower than the validation loss, you're overfitting. Increase regularization (more dropout) or use a smaller network. If the training and validation losses are close, you're underfitting so you can increase the size of the network."
   ]
  },
  {
   "cell_type": "markdown",
   "metadata": {},
   "source": [
    "## Hyperparameters\n",
    "\n",
    "Here are the hyperparameters for the network.\n",
    "\n",
    "In defining the model:\n",
    "* `n_hidden` - The number of units in the hidden layers.\n",
    "* `n_layers` - Number of hidden LSTM layers to use.\n",
    "\n",
    "We assume that dropout probability and learning rate will be kept at the default, in this example.\n",
    "\n",
    "And in training:\n",
    "* `batch_size` - Number of sequences running through the network in one pass.\n",
    "* `seq_length` - Number of characters in the sequence the network is trained on. Larger is better typically, the network will learn more long range dependencies. But it takes longer to train. 100 is typically a good number here.\n",
    "* `lr` - Learning rate for training\n",
    "\n",
    "Here's some good advice from Andrej Karpathy on training the network. I'm going to copy it in here for your benefit, but also link to [where it originally came from](https://github.com/karpathy/char-rnn#tips-and-tricks).\n",
    "\n",
    "> ## Tips and Tricks\n",
    "\n",
    ">### Monitoring Validation Loss vs. Training Loss\n",
    ">If you're somewhat new to Machine Learning or Neural Networks it can take a bit of expertise to get good models. The most important quantity to keep track of is the difference between your training loss (printed during training) and the validation loss (printed once in a while when the RNN is run on the validation data (by default every 1000 iterations)). In particular:\n",
    "\n",
    "> - If your training loss is much lower than validation loss then this means the network might be **overfitting**. Solutions to this are to decrease your network size, or to increase dropout. For example you could try dropout of 0.5 and so on.\n",
    "> - If your training/validation loss are about equal then your model is **underfitting**. Increase the size of your model (either number of layers or the raw number of neurons per layer)\n",
    "\n",
    "> ### Approximate number of parameters\n",
    "\n",
    "> The two most important parameters that control the model are `n_hidden` and `n_layers`. I would advise that you always use `n_layers` of either 2/3. The `n_hidden` can be adjusted based on how much data you have. The two important quantities to keep track of here are:\n",
    "\n",
    "> - The number of parameters in your model. This is printed when you start training.\n",
    "> - The size of your dataset. 1MB file is approximately 1 million characters.\n",
    "\n",
    ">These two should be about the same order of magnitude. It's a little tricky to tell. Here are some examples:\n",
    "\n",
    "> - I have a 100MB dataset and I'm using the default parameter settings (which currently print 150K parameters). My data size is significantly larger (100 mil >> 0.15 mil), so I expect to heavily underfit. I am thinking I can comfortably afford to make `n_hidden` larger.\n",
    "> - I have a 10MB dataset and running a 10 million parameter model. I'm slightly nervous and I'm carefully monitoring my validation loss. If it's larger than my training loss then I may want to try to increase dropout a bit and see if that helps the validation loss.\n",
    "\n",
    "> ### Best models strategy\n",
    "\n",
    ">The winning strategy to obtaining very good models (if you have the compute time) is to always err on making the network larger (as large as you're willing to wait for it to compute) and then try different dropout values (between 0,1). Whatever model has the best validation performance (the loss, written in the checkpoint filename, low is good) is the one you should use in the end.\n",
    "\n",
    ">It is very common in deep learning to run many different models with many different hyperparameter settings, and in the end take whatever checkpoint gave the best validation performance.\n",
    "\n",
    ">By the way, the size of your training and validation splits are also parameters. Make sure you have a decent amount of data in your validation set or otherwise the validation performance will be noisy and not very informative."
   ]
  },
  {
   "cell_type": "markdown",
   "metadata": {},
   "source": [
    "## Checkpoint\n",
    "\n",
    "After training, we'll save the model so we can load it again later if we need too. Here I'm saving the parameters needed to create the same architecture, the hidden layer hyperparameters and the text characters."
   ]
  },
  {
   "cell_type": "code",
   "execution_count": null,
   "metadata": {
    "collapsed": true
   },
   "outputs": [],
   "source": [
    "# change the name, for saving multiple files\n",
    "model_name = 'rnn_x_epoch.net'\n",
    "\n",
    "checkpoint = {'n_hidden': net.n_hidden,\n",
    "              'n_layers': net.n_layers,\n",
    "              'state_dict': net.state_dict(),\n",
    "              'tokens': net.chars}\n",
    "\n",
    "with open(model_name, 'wb') as f:\n",
    "    torch.save(checkpoint, f)"
   ]
  },
  {
   "cell_type": "markdown",
   "metadata": {},
   "source": [
    "---\n",
    "## Making Predictions\n",
    "\n",
    "Now that the model is trained, we'll want to sample from it and make predictions about next characters! To sample, we pass in a character and have the network predict the next character. Then we take that character, pass it back in, and get another predicted character. Just keep doing this and you'll generate a bunch of text!\n",
    "\n",
    "### A note on the `predict`  function\n",
    "\n",
    "The output of our RNN is from a fully-connected layer and it outputs a **distribution of next-character scores**.\n",
    "\n",
    "> To actually get the next character, we apply a softmax function, which gives us a *probability* distribution that we can then sample to predict the next character.\n",
    "\n",
    "### Top K sampling\n",
    "\n",
    "Our predictions come from a categorical probability distribution over all the possible characters. We can make the sample text and make it more reasonable to handle (with less variables) by only considering some $K$ most probable characters. This will prevent the network from giving us completely absurd characters while allowing it to introduce some noise and randomness into the sampled text. Read more about [topk, here](https://pytorch.org/docs/stable/torch.html#torch.topk).\n"
   ]
  },
  {
   "cell_type": "code",
   "execution_count": null,
   "metadata": {
    "collapsed": true
   },
   "outputs": [],
   "source": [
    "def predict(net, char, h=None, top_k=None):\n",
    "        ''' Given a character, predict the next character.\n",
    "            Returns the predicted character and the hidden state.\n",
    "        '''\n",
    "        \n",
    "        # tensor inputs\n",
    "        x = np.array([[net.char2int[char]]])\n",
    "        x = one_hot_encode(x, len(net.chars))\n",
    "        inputs = torch.from_numpy(x)\n",
    "        \n",
    "        if(train_on_gpu):\n",
    "            inputs = inputs.cuda()\n",
    "        \n",
    "        # detach hidden state from history\n",
    "        h = tuple([each.data for each in h])\n",
    "        # get the output of the model\n",
    "        out, h = net(inputs, h)\n",
    "\n",
    "        # get the character probabilities\n",
    "        p = F.softmax(out, dim=1).data\n",
    "        if(train_on_gpu):\n",
    "            p = p.cpu() # move to cpu\n",
    "        \n",
    "        # get top characters\n",
    "        if top_k is None:\n",
    "            top_ch = np.arange(len(net.chars))\n",
    "        else:\n",
    "            p, top_ch = p.topk(top_k)\n",
    "            top_ch = top_ch.numpy().squeeze()\n",
    "        \n",
    "        # select the likely next character with some element of randomness\n",
    "        p = p.numpy().squeeze()\n",
    "        char = np.random.choice(top_ch, p=p/p.sum())\n",
    "        \n",
    "        # return the encoded value of the predicted char and the hidden state\n",
    "        return net.int2char[char], h"
   ]
  },
  {
   "cell_type": "markdown",
   "metadata": {},
   "source": [
    "### Priming and generating text \n",
    "\n",
    "Typically you'll want to prime the network so you can build up a hidden state. Otherwise the network will start out generating characters at random. In general the first bunch of characters will be a little rough since it hasn't built up a long history of characters to predict from."
   ]
  },
  {
   "cell_type": "code",
   "execution_count": null,
   "metadata": {
    "collapsed": true
   },
   "outputs": [],
   "source": [
    "def sample(net, size, prime='The', top_k=None):\n",
    "        \n",
    "    if(train_on_gpu):\n",
    "        net.cuda()\n",
    "    else:\n",
    "        net.cpu()\n",
    "    \n",
    "    net.eval() # eval mode\n",
    "    \n",
    "    # First off, run through the prime characters\n",
    "    chars = [ch for ch in prime]\n",
    "    h = net.init_hidden(1)\n",
    "    for ch in prime:\n",
    "        char, h = predict(net, ch, h, top_k=top_k)\n",
    "\n",
    "    chars.append(char)\n",
    "    \n",
    "    # Now pass in the previous character and get a new one\n",
    "    for ii in range(size):\n",
    "        char, h = predict(net, chars[-1], h, top_k=top_k)\n",
    "        chars.append(char)\n",
    "\n",
    "    return ''.join(chars)"
   ]
  },
  {
   "cell_type": "code",
   "execution_count": null,
   "metadata": {
    "collapsed": true
   },
   "outputs": [],
   "source": [
    "print(sample(net, 1000, prime='Anna', top_k=5))"
   ]
  },
  {
   "cell_type": "markdown",
   "metadata": {},
   "source": [
    "## Loading a checkpoint"
   ]
  },
  {
   "cell_type": "code",
   "execution_count": null,
   "metadata": {
    "collapsed": true
   },
   "outputs": [],
   "source": [
    "# Here we have loaded in a model that trained over 20 epochs `rnn_20_epoch.net`\n",
    "with open('rnn_x_epoch.net', 'rb') as f:\n",
    "    checkpoint = torch.load(f)\n",
    "    \n",
    "loaded = CharRNN(checkpoint['tokens'], n_hidden=checkpoint['n_hidden'], n_layers=checkpoint['n_layers'])\n",
    "loaded.load_state_dict(checkpoint['state_dict'])"
   ]
  },
  {
   "cell_type": "code",
   "execution_count": null,
   "metadata": {
    "collapsed": true
   },
   "outputs": [],
   "source": [
    "# Sample using a loaded model\n",
    "print(sample(loaded, 2000, top_k=5, prime=\"And Levin said\"))"
   ]
  },
  {
   "cell_type": "code",
   "execution_count": null,
   "metadata": {
    "collapsed": true
   },
   "outputs": [],
   "source": []
  }
 ],
 "metadata": {
  "kernelspec": {
   "display_name": "Python [default]",
   "language": "python",
   "name": "python3"
  },
  "language_info": {
   "codemirror_mode": {
    "name": "ipython",
    "version": 3
   },
   "file_extension": ".py",
   "mimetype": "text/x-python",
   "name": "python",
   "nbconvert_exporter": "python",
   "pygments_lexer": "ipython3",
   "version": "3.8.16"
  }
 },
 "nbformat": 4,
 "nbformat_minor": 2
}
